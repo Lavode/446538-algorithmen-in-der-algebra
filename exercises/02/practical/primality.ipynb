{
 "cells": [
  {
   "cell_type": "code",
   "execution_count": 39,
   "metadata": {},
   "outputs": [],
   "source": [
    "import unittest\n",
    "import random"
   ]
  },
  {
   "cell_type": "markdown",
   "metadata": {},
   "source": [
    "<h1>Primtests</h1>\n",
    "Implementieren Sie das Potenzieren modulo einer Zahl p und den Miller-Rabin Primtest. Sie duerfen natuerlich die ueblichen Operationen + , * , Mod, Schleifen, usw benutzen, aber keine avancierteren eingebauten Funktionen. Finden Sie mit ihrer Funktion heraus welche von folgenden Zahlen prim ist/sind"
   ]
  },
  {
   "cell_type": "code",
   "execution_count": 50,
   "metadata": {},
   "outputs": [],
   "source": [
    "def modular_exponentiation(base, exponent, modulus):\n",
    "    \"\"\"Efficiently calculates modular exponentiation, using exponentiation-by-squaring.\n",
    "    \n",
    "    Adapted from Knuth's description in seminumerical algorithms.\n",
    "    \"\"\"\n",
    "    \n",
    "    if modulus == 0:\n",
    "        return 1\n",
    "    \n",
    "    # Starting with multiplicative identity\n",
    "    result = 1\n",
    "    \n",
    "    # Initial reduction of base\n",
    "    base = base % modulus\n",
    "    \n",
    "    while exponent > 0:\n",
    "        if int(exponent) % 2 == 1:\n",
    "            # Low-order bit is set, we need to multiply by the base\n",
    "            result = (result * base) % modulus\n",
    "\n",
    "        # Square the base\n",
    "        base = (base * base) % modulus\n",
    "        \n",
    "        # If we worked with a lower-level representation we'd use a bitshift here.\n",
    "        # Int division ensures that we don't get sage's rational type.\n",
    "        exponent = exponent // 2\n",
    "        \n",
    "    return result"
   ]
  },
  {
   "cell_type": "code",
   "execution_count": 51,
   "metadata": {},
   "outputs": [
    {
     "name": "stderr",
     "output_type": "stream",
     "text": [
      "....\n",
      "----------------------------------------------------------------------\n",
      "Ran 4 tests in 0.023s\n",
      "\n",
      "OK\n"
     ]
    }
   ],
   "source": [
    "class TestModularExponentiation(unittest.TestCase):\n",
    "    def test_regular_inputs(self):\n",
    "        self.assertEqual(\n",
    "            modular_exponentiation(9, 25, 140),\n",
    "            9\n",
    "        )\n",
    "        \n",
    "        self.assertEqual(\n",
    "            modular_exponentiation(51, 12, 92),\n",
    "            41\n",
    "        )\n",
    "        \n",
    "        self.assertEqual(\n",
    "            modular_exponentiation(3, 1, 13),\n",
    "            3\n",
    "        )\n",
    "        \n",
    "        self.assertEqual(\n",
    "            modular_exponentiation(\n",
    "                7327400290442560425920942839143323999578278092023909554037400129418740333956687335292389730265421931987383894572654415304388681161312693055974113814450996,\n",
    "                7871945282927370290022202797724369314219564576915741349803305117081504241010982998486553350977349641109115038652279706027322679180406940654699981259358988,\n",
    "                155793054658036586983059984104125642220838061967139722232028207357510917409147636940763032675526312719920880829422343457362880143858589191185721672185418889909231919475906878533039319191589174366682486466409148105756207707046418413763528166837094168353322549522507034758982382530755157371987564169811552427649,\n",
    "            ),\n",
    "            3090450768424125348615675925968738385107440368487460534168739690458614756793415920951706528125247749557683225930419450548317420535985476888347379876665375992088753414500134745169227960788467264191400042741828088208154885588000208763334960018050941506017203897023726143161762337765341447388281263645471087913,\n",
    "        )\n",
    "        \n",
    "    def test_modulo_one(self):\n",
    "        self.assertEqual(\n",
    "            modular_exponentiation(21, 2, 1),\n",
    "            0\n",
    "        )\n",
    "        \n",
    "result = unittest.main(argv=[''], exit = False)"
   ]
  },
  {
   "cell_type": "code",
   "execution_count": 52,
   "metadata": {},
   "outputs": [],
   "source": [
    "def miller_rabin_primality_test(p, iterations=10):\n",
    "    \"\"\"Tests p for primality using the Miller-Rabin probabilistic primality test.\n",
    "    \n",
    "    The iterations parameter determines the number of independent tests. \n",
    "    Given `n` iterations, the probability of a false-positive (claiming the \n",
    "    number to be prime when it is composite) is bounded by (1/4)^n. The \n",
    "    average-case false-positive rate is significantly lower though.\n",
    "    \"\"\"\n",
    "        \n",
    "    # We first extract any factor `2^k` from `q= (p-1)`\n",
    "    q = p - 1\n",
    "    k = 0\n",
    "    while q % 2 == 0:\n",
    "        k += 1\n",
    "        q = q // 2\n",
    "        \n",
    "    for i in range(iterations):\n",
    "        a = randint(1, p - 1)\n",
    "\n",
    "        c = modular_exponentiation(a, q, p)\n",
    "        l = 0\n",
    "        b = p - 1\n",
    "        \n",
    "        while l < k and c != 1:\n",
    "            b = c\n",
    "            c = modular_exponentiation(c, 2, p)\n",
    "            l += 1\n",
    "        \n",
    "        if c != 1 or (c == 1 and b != p - 1):\n",
    "            return False\n",
    "        \n",
    "    # Might also be a false positive with probability < (1/4)^iterations\n",
    "    return True"
   ]
  },
  {
   "cell_type": "code",
   "execution_count": 53,
   "metadata": {},
   "outputs": [
    {
     "name": "stderr",
     "output_type": "stream",
     "text": [
      "....\n",
      "----------------------------------------------------------------------\n",
      "Ran 4 tests in 0.022s\n",
      "\n",
      "OK\n"
     ]
    }
   ],
   "source": [
    "class TestIsPrime(unittest.TestCase):\n",
    "    def test_prime_numbers(self):\n",
    "        primes = [\n",
    "            2,\n",
    "            3,\n",
    "            5,\n",
    "            7,\n",
    "            11,\n",
    "            13,\n",
    "            1427479127717833937168670848468931989293678232447263262648720559010987703433697812227418985101516405628451324554596251167792708638404225969200177560780949,\n",
    "        ]\n",
    "        \n",
    "        for p in primes:\n",
    "            self.assertTrue(miller_rabin_primality_test(p), f\"Expected {p} to be considered prime, was not\")\n",
    "        \n",
    "    def test_composite_numbers(self):\n",
    "        composite = [\n",
    "            4,\n",
    "            6,\n",
    "            9,\n",
    "            22,\n",
    "            11060941402615234945492229031542080294141930318725981437403842790763289015636186603553846455901837779320953001695309539423616129008460361044602956344413786,\n",
    "            8936558163972896293780458811337146284520641236904286421306514143272991917927337638984360579260286627474654505796961590687463390880558649690712379247630828,\n",
    "        ]\n",
    "        \n",
    "        for x in composite:\n",
    "            self.assertFalse(miller_rabin_primality_test(x), f\"Expected {x} to be considered composite, was not\")\n",
    "  \n",
    "result = unittest.main(argv=[''], exit = False)"
   ]
  },
  {
   "cell_type": "code",
   "execution_count": 60,
   "metadata": {},
   "outputs": [],
   "source": [
    "# Disable Sage's primality proofs\n",
    "proof.arithmetic(False)"
   ]
  },
  {
   "cell_type": "code",
   "execution_count": 54,
   "metadata": {},
   "outputs": [],
   "source": [
    "p1=510097651439592493544292480932774562791616642261758239613105798418884978422849780911285905224826218356898740027835357148838474305311054187319621842459950739380578833637485286596131371378143900723170631021916389492302477317009211977941850995024840245838069812168819177310433202159748943726195369370820758857938640851976601"
   ]
  },
  {
   "cell_type": "code",
   "execution_count": 63,
   "metadata": {},
   "outputs": [
    {
     "name": "stdout",
     "output_type": "stream",
     "text": [
      "Custom Miller-Rabin: False\n",
      "Sagemath built-in: False\n"
     ]
    }
   ],
   "source": [
    "custom = miller_rabin_primality_test(p1)\n",
    "sage = is_prime(p1)\n",
    "\n",
    "print(f\"Custom Miller-Rabin: {custom}\\nSagemath built-in: {sage}\")"
   ]
  },
  {
   "cell_type": "code",
   "execution_count": 56,
   "metadata": {},
   "outputs": [],
   "source": [
    "p2=249157437724640665559333876735358052349543208756961040272192815052934687776345211115646297635717016482834715522771123728503529172483160935387079592690411109271411907425001429533477145739048793369949168856176809318074007714034902358332129489121437678931154070089979424897547685945255203715874862864996731563061075416261783"
   ]
  },
  {
   "cell_type": "code",
   "execution_count": 64,
   "metadata": {},
   "outputs": [
    {
     "name": "stdout",
     "output_type": "stream",
     "text": [
      "Custom Miller-Rabin: True\n",
      "Sagemath built-in: True\n"
     ]
    }
   ],
   "source": [
    "custom = miller_rabin_primality_test(p2)\n",
    "sage = is_prime(p2)\n",
    "\n",
    "print(f\"Custom Miller-Rabin: {custom}\\nSagemath built-in: {sage}\")"
   ]
  },
  {
   "cell_type": "code",
   "execution_count": 58,
   "metadata": {},
   "outputs": [],
   "source": [
    "p3=25963094058946303796303758165834115581864947010440571213398187494969676762907277539709690474052230679185165482019273737162702031986028499323545460985327489809267633790673385098043061816763823539404537354305004679313366537698657602932362051675757492397536872433842912244354893078460858880986195552111277992013229778809917"
   ]
  },
  {
   "cell_type": "code",
   "execution_count": 65,
   "metadata": {},
   "outputs": [
    {
     "name": "stdout",
     "output_type": "stream",
     "text": [
      "Custom Miller-Rabin: False\n",
      "Sagemath built-in: False\n"
     ]
    }
   ],
   "source": [
    "custom = miller_rabin_primality_test(p3)\n",
    "sage = is_prime(p3)\n",
    "\n",
    "print(f\"Custom Miller-Rabin: {custom}\\nSagemath built-in: {sage}\")"
   ]
  }
 ],
 "metadata": {
  "kernelspec": {
   "display_name": "SageMath 9.5",
   "language": "sage",
   "name": "sagemath"
  },
  "language_info": {
   "codemirror_mode": {
    "name": "ipython",
    "version": 3
   },
   "file_extension": ".py",
   "mimetype": "text/x-python",
   "name": "python",
   "nbconvert_exporter": "python",
   "pygments_lexer": "ipython3",
   "version": "3.10.2"
  }
 },
 "nbformat": 4,
 "nbformat_minor": 4
}

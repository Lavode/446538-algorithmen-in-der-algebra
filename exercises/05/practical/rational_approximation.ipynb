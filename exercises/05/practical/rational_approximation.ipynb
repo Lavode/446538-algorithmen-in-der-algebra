{
 "cells": [
  {
   "cell_type": "markdown",
   "id": "09326dce",
   "metadata": {},
   "source": [
    "We intend to find a rational approximation $q = m/n$, with $m, n < 30$, such that its first three decimal places are equal to the ones of $1/pi$."
   ]
  },
  {
   "cell_type": "code",
   "execution_count": 26,
   "id": "0352d99c",
   "metadata": {},
   "outputs": [
    {
     "data": {
      "text/plain": [
       "0.3183"
      ]
     },
     "execution_count": 26,
     "metadata": {},
     "output_type": "execute_result"
    }
   ],
   "source": [
    "target = round((1/pi).n(), ndigits = 4)\n",
    "target"
   ]
  },
  {
   "cell_type": "code",
   "execution_count": 49,
   "id": "0139633d",
   "metadata": {},
   "outputs": [],
   "source": [
    "def find_approximate_rational(m):\n",
    "    out = m.LLL()\n",
    "    a, b = out[0][0], out[0][1]\n",
    "    \n",
    "    if b == 0:\n",
    "        # That's a great reduced basis, but we'd rather not divide by 0\n",
    "        return None\n",
    "    \n",
    "    try:\n",
    "        x = -a/b\n",
    "    except ZeroDivisionError:\n",
    "        # Not sure why this one still happens\n",
    "        return None\n",
    "        \n",
    "    return x"
   ]
  },
  {
   "cell_type": "code",
   "execution_count": 55,
   "id": "3280d2e6",
   "metadata": {},
   "outputs": [
    {
     "name": "stdout",
     "output_type": "stream",
     "text": [
      "Iteration: 0\n",
      "New approximation found: 5/18, Offset = 0.04052222222222224\n",
      "New approximation found: 1/3, Offset = 0.015033333333333287\n",
      "Iteration: 1000\n",
      "New approximation found: 9/28, Offset = 0.003128571428571425\n",
      "New approximation found: 8/25, Offset = 0.0016999999999999793\n",
      "Iteration: 2000\n",
      "Iteration: 3000\n",
      "Iteration: 4000\n",
      "Iteration: 5000\n",
      "Iteration: 6000\n",
      "Iteration: 7000\n",
      "Iteration: 8000\n",
      "Iteration: 9000\n",
      "Iteration: 10000\n",
      "Iteration: 11000\n",
      "Iteration: 12000\n",
      "Iteration: 13000\n",
      "Iteration: 14000\n",
      "Iteration: 15000\n",
      "Iteration: 16000\n",
      "Iteration: 17000\n",
      "Iteration: 18000\n",
      "Iteration: 19000\n",
      "Iteration: 20000\n",
      "Iteration: 21000\n",
      "Iteration: 22000\n",
      "Iteration: 23000\n",
      "Iteration: 24000\n",
      "Iteration: 25000\n",
      "Iteration: 26000\n",
      "Iteration: 27000\n",
      "Iteration: 28000\n",
      "Iteration: 29000\n",
      "Iteration: 30000\n",
      "Iteration: 31000\n",
      "Iteration: 32000\n",
      "Iteration: 33000\n",
      "New approximation found: 7/22, Offset = 0.00011818181818185058\n",
      "Iteration: 34000\n",
      "Iteration: 35000\n",
      "Iteration: 36000\n",
      "Iteration: 37000\n",
      "Iteration: 38000\n",
      "Iteration: 39000\n",
      "Iteration: 40000\n",
      "Iteration: 41000\n",
      "Iteration: 42000\n",
      "Iteration: 43000\n",
      "Iteration: 44000\n",
      "Iteration: 45000\n",
      "Iteration: 46000\n",
      "Iteration: 47000\n",
      "Iteration: 48000\n",
      "Iteration: 49000\n",
      "Best approximation: 7/22, with difference 0.00011818181818185058\n"
     ]
    }
   ],
   "source": [
    "best_diff = target\n",
    "best_x = 1\n",
    "\n",
    "for i in range(50000):\n",
    "    if (i % 1000) == 0:\n",
    "        print(f\"Iteration: {i}\")\n",
    "        \n",
    "    x, y = randint(0, 1000), randint(0, 1000)\n",
    "    # Guaranteed to be independent this way\n",
    "    M = Matrix(ZZ, [[x, 0, 10^4], [0, y, round(target * 10^4, ndigits = 0)]])\n",
    "    \n",
    "    x = find_approximate_rational(M)\n",
    "    if x is None:\n",
    "        # Finding approximate value failed, we'll just move on\n",
    "        continue\n",
    "\n",
    "    if x.numerator() > 30 or x.denominator() > 30:\n",
    "        continue\n",
    "    \n",
    "    if abs(x - target) < best_diff:\n",
    "        best_x = x\n",
    "        best_diff = abs(x - target)\n",
    "        print(f\"New approximation found: {x}, Offset = {best_diff}\")\n",
    "        \n",
    "        \n",
    "    print(f\"Best approximation: {best_x}, with difference {best_diff}\")"
   ]
  },
  {
   "cell_type": "markdown",
   "id": "7eaa9414",
   "metadata": {},
   "source": [
    "# Showing that $\\mathbb{Z} + \\sqrt{2} \\mathbb{Z} \\subset \\mathbb{R}$ is not a lattice\n",
    "\n",
    "The goal now is to find a solution $a \\cdot 1 + b \\cdot \\sqrt{2} < \\epsilon$ with integer coefficients $a, b \\in \\mathbb{Z}$, for $\\epsilon > 0$."
   ]
  },
  {
   "cell_type": "code",
   "execution_count": 37,
   "id": "18f6cd43",
   "metadata": {},
   "outputs": [
    {
     "name": "stdout",
     "output_type": "stream",
     "text": [
      "Approxmation: 1.41379310344828, diff = -0.000420458924819345, ok: True\n",
      "41 / 29\n"
     ]
    }
   ],
   "source": [
    "sqrt_two = sqrt(2)\n",
    "\n",
    "epsilon = 0.01/12\n",
    "\n",
    "approx_sqrt = sqrt_two.n().nearby_rational(max_error = epsilon)\n",
    "diff = (approx_sqrt - sqrt_two).n()\n",
    "print(f\"Approxmation: {approx_sqrt.n()}, diff = {diff}, ok: {diff < epsilon}\")\n",
    "\n",
    "a, b = approx_sqrt.numerator(), approx_sqrt.denominator()\n",
    "print(f\"{a} / {b}\")\n",
    "\n"
   ]
  },
  {
   "cell_type": "code",
   "execution_count": 16,
   "id": "d4cf1d5a",
   "metadata": {},
   "outputs": [
    {
     "data": {
      "text/plain": [
       "1.41400000000000"
      ]
     },
     "execution_count": 16,
     "metadata": {},
     "output_type": "execute_result"
    }
   ],
   "source": [
    "\n",
    "\n",
    "a = 1414\n",
    "b = 10^(floor(log(a, 10)))\n",
    "\n",
    "(a / b).n()\n",
    "approx_sqrt."
   ]
  },
  {
   "cell_type": "code",
   "execution_count": null,
   "id": "4bae4af7",
   "metadata": {},
   "outputs": [],
   "source": []
  }
 ],
 "metadata": {
  "kernelspec": {
   "display_name": "SageMath 9.5",
   "language": "sage",
   "name": "sagemath"
  },
  "language_info": {
   "codemirror_mode": {
    "name": "ipython",
    "version": 3
   },
   "file_extension": ".py",
   "mimetype": "text/x-python",
   "name": "python",
   "nbconvert_exporter": "python",
   "pygments_lexer": "ipython3",
   "version": "3.10.2"
  }
 },
 "nbformat": 4,
 "nbformat_minor": 5
}

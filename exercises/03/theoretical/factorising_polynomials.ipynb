{
 "cells": [
  {
   "cell_type": "code",
   "execution_count": 1,
   "id": "ae13b9e0",
   "metadata": {},
   "outputs": [],
   "source": [
    "F = GF(3)\n",
    "R = F[x]\n",
    "f = R(1 + 2*x + 2*x^2 + 2*x^3 + x^4 + x^5 + x^7)\n",
    "QR = QuotientRing(R, f)"
   ]
  },
  {
   "cell_type": "code",
   "execution_count": null,
   "id": "403bf4cc",
   "metadata": {},
   "outputs": [],
   "source": [
    "for i in range(14):\n",
    "    g = QR"
   ]
  }
 ],
 "metadata": {
  "kernelspec": {
   "display_name": "SageMath 9.5",
   "language": "sage",
   "name": "sagemath"
  },
  "language_info": {
   "codemirror_mode": {
    "name": "ipython",
    "version": 3
   },
   "file_extension": ".py",
   "mimetype": "text/x-python",
   "name": "python",
   "nbconvert_exporter": "python",
   "pygments_lexer": "ipython3",
   "version": "3.10.2"
  }
 },
 "nbformat": 4,
 "nbformat_minor": 5
}

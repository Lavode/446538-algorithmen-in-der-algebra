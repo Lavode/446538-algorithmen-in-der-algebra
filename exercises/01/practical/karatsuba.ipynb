{
 "cells": [
  {
   "cell_type": "markdown",
   "metadata": {},
   "source": [
    "<h1>Algorithmen in der Algebra, Woche 1</h1>"
   ]
  },
  {
   "cell_type": "code",
   "execution_count": 212,
   "metadata": {},
   "outputs": [],
   "source": [
    "import unittest\n",
    "import random\n",
    "import time"
   ]
  },
  {
   "cell_type": "code",
   "execution_count": 213,
   "metadata": {},
   "outputs": [],
   "source": [
    "#Input: (f,r), where:\n",
    "#f is the function you want to test (between quotation marks),\n",
    "#r is the list of inputs you want to test it on.\n",
    "#Output: a list of times in seconds.\n",
    "#Also displays a plot of this list.\n",
    "from sage.misc.sage_timeit import sage_timeit\n",
    "def my_timeit(f,r):\n",
    "    for i in r:\n",
    "        L=flatten([sage_timeit(f+'('+str(i)+')', globals(), preparse=True, number=1, repeat=1).series for i in r])\n",
    "        list_plot(L).show()\n",
    "        return L"
   ]
  },
  {
   "cell_type": "markdown",
   "metadata": {},
   "source": [
    "<h2>Addition von nicht-negativen ganzen Zahlen</h2> "
   ]
  },
  {
   "cell_type": "code",
   "execution_count": 214,
   "metadata": {},
   "outputs": [],
   "source": [
    "b=10;"
   ]
  },
  {
   "cell_type": "code",
   "execution_count": 215,
   "metadata": {},
   "outputs": [],
   "source": [
    "def strip_zeroes(z):\n",
    "    zz=z[:] #Liste kopieren\n",
    "    while len(zz)>0 and zz[0]==0:\n",
    "        zz.pop(0)\n",
    "    return zz"
   ]
  },
  {
   "cell_type": "code",
   "execution_count": 216,
   "metadata": {},
   "outputs": [
    {
     "data": {
      "text/plain": [
       "[1, 2, 0, 4, 0]"
      ]
     },
     "execution_count": 216,
     "metadata": {},
     "output_type": "execute_result"
    }
   ],
   "source": [
    "#Beispiel\n",
    "strip_zeroes([0,0,1,2,0,4,0])"
   ]
  },
  {
   "cell_type": "code",
   "execution_count": 217,
   "metadata": {},
   "outputs": [],
   "source": [
    "def addition(x,y):\n",
    "    m = len(x)\n",
    "    n = len(y)\n",
    "    c = 0\n",
    "    z = []\n",
    "    for i in [0..max(m,n)]:\n",
    "        if i < m:\n",
    "            c = c + x[m-i-1]\n",
    "        if i < n:\n",
    "            c = c + y[n-i-1]\n",
    "        z.insert(0,c%b)\n",
    "        c = c//b\n",
    "    z=strip_zeroes(z)\n",
    "    return z"
   ]
  },
  {
   "cell_type": "code",
   "execution_count": 218,
   "metadata": {},
   "outputs": [
    {
     "data": {
      "text/plain": [
       "[1, 1, 2, 2]"
      ]
     },
     "execution_count": 218,
     "metadata": {},
     "output_type": "execute_result"
    }
   ],
   "source": [
    "addition([8,4,3],[2,7,9])"
   ]
  },
  {
   "cell_type": "code",
   "execution_count": 219,
   "metadata": {},
   "outputs": [
    {
     "data": {
      "text/plain": [
       "[4, 1, 8]"
      ]
     },
     "execution_count": 219,
     "metadata": {},
     "output_type": "execute_result"
    }
   ],
   "source": [
    "addition([3,8],[3,8,0])"
   ]
  },
  {
   "cell_type": "markdown",
   "metadata": {},
   "source": [
    "<h2>Langsame Multiplikation von zwei Zahlen</h2>"
   ]
  },
  {
   "cell_type": "code",
   "execution_count": 220,
   "metadata": {},
   "outputs": [],
   "source": [
    "def slow_times(x,y):\n",
    "    z=[]\n",
    "    m=len(x)\n",
    "    for i in range(m):\n",
    "        for j in range(x[m-i-1]):\n",
    "            z=addition(z,y+(i*[0])) #Extra Nullen, da wir mit b^i multiplizieren müssen.\n",
    "    z=strip_zeroes(z)\n",
    "    return z"
   ]
  },
  {
   "cell_type": "code",
   "execution_count": 221,
   "metadata": {
    "scrolled": true
   },
   "outputs": [
    {
     "data": {
      "text/plain": [
       "[7, 9, 8]"
      ]
     },
     "execution_count": 221,
     "metadata": {},
     "output_type": "execute_result"
    }
   ],
   "source": [
    "slow_times([2,1],[3,8])"
   ]
  },
  {
   "cell_type": "code",
   "execution_count": 222,
   "metadata": {},
   "outputs": [],
   "source": [
    "def slow_times_test(n): #berechnet das Produkt von zwei Zahlen der Länge n.\n",
    "    return slow_times([randint(0,9) for i in range(n)],[randint(0,9) for i in range(n)])"
   ]
  },
  {
   "cell_type": "code",
   "execution_count": 223,
   "metadata": {
    "scrolled": false
   },
   "outputs": [
    {
     "data": {
      "image/png": "[encoded data removed]",
      "text/plain": [
       "Graphics object consisting of 1 graphics primitive"
      ]
     },
     "metadata": {},
     "output_type": "display_data"
    }
   ],
   "source": [
    "my_timeit('slow_times_test',[1..100]);"
   ]
  },
  {
   "cell_type": "markdown",
   "metadata": {},
   "source": [
    "Man sieht das quadratische Verhalten."
   ]
  },
  {
   "cell_type": "code",
   "execution_count": 224,
   "metadata": {},
   "outputs": [],
   "source": [
    "#Liste zu Zahl. Kannst du als \"black box\" verwenden.\n",
    "def liste_zu_zahl(numList):\n",
    "    s = ''.join([str(i) for i in numList]) #Example what \"join\" does: '.'.join(['ab', 'pq', 'rs']) -> 'ab.pq.rs'\n",
    "    return int(s)"
   ]
  },
  {
   "cell_type": "code",
   "execution_count": 225,
   "metadata": {},
   "outputs": [
    {
     "data": {
      "text/plain": [
       "531"
      ]
     },
     "execution_count": 225,
     "metadata": {},
     "output_type": "execute_result"
    }
   ],
   "source": [
    "#Beispiel\n",
    "liste_zu_zahl([5,3,1])"
   ]
  },
  {
   "cell_type": "code",
   "execution_count": 226,
   "metadata": {},
   "outputs": [],
   "source": [
    "def digits(x):\n",
    "    return strip_zeroes([int(c) for c in str(x)])"
   ]
  },
  {
   "cell_type": "code",
   "execution_count": 228,
   "metadata": {},
   "outputs": [
    {
     "name": "stderr",
     "output_type": "stream",
     "text": [
      ".....\n",
      "----------------------------------------------------------------------\n",
      "Ran 5 tests in 0.533s\n",
      "\n",
      "OK\n"
     ]
    }
   ],
   "source": [
    "class TestDigits(unittest.TestCase):\n",
    "\n",
    "    def test_splits_into_digits(self):\n",
    "        self.assertEqual(digits(123456), [1, 2, 3, 4, 5, 6])\n",
    "        \n",
    "    def test_strips_leading_zeroes(self):\n",
    "        self.assertEqual(digits(0), [])\n",
    "        \n",
    "result = unittest.main(argv=[''], exit = False)"
   ]
  },
  {
   "cell_type": "code",
   "execution_count": 230,
   "metadata": {},
   "outputs": [],
   "source": [
    "def usual_times_test(n): #berechnet das Produkt von zwei Zahlen der Länge n.\n",
    "    return liste_zu_zahl([randint(0,9) for i in range(n)])*liste_zu_zahl([randint(0,9) for i in range(n)])"
   ]
  },
  {
   "cell_type": "code",
   "execution_count": 231,
   "metadata": {},
   "outputs": [
    {
     "data": {
      "image/png": "[encoded data removed]",
      "text/plain": [
       "Graphics object consisting of 1 graphics primitive"
      ]
     },
     "metadata": {},
     "output_type": "display_data"
    }
   ],
   "source": [
    "my_timeit('usual_times_test',[1..1000]);"
   ]
  },
  {
   "cell_type": "markdown",
   "metadata": {},
   "source": [
    "Nicht nur ist die eingebaute Sage-Funktion Times viel schneller als SlowTimes; auch scheint das Verhalten gar nicht quadratisch."
   ]
  },
  {
   "cell_type": "markdown",
   "metadata": {},
   "source": [
    "<h2>Karatsuba</h2>"
   ]
  },
  {
   "cell_type": "markdown",
   "metadata": {},
   "source": [
    "Implementieren Sie eine Funktion Subtraktion, ähnlich wie Addition, wo die Voraussetzung ist, dass die von x dargestellte Zahl groesser ist als die von y dargestellte Zahl (so dass keine neuen Symbole für negative Zahlen benötigt werden)."
   ]
  },
  {
   "cell_type": "code",
   "execution_count": 232,
   "metadata": {},
   "outputs": [],
   "source": [
    "def subtract(x, y):\n",
    "    m = len(x)\n",
    "    n = len(y)\n",
    "    \n",
    "    c = 0\n",
    "    z = []\n",
    "    # Subtracting two values will certainly not cause the number of digits\n",
    "    # to increase, simplifying this compared to addition.\n",
    "    for i in [1..max(m,n)]:\n",
    "        if i <= m:\n",
    "            c = c + x[-i]\n",
    "        if i <= n:\n",
    "            c = c - y[-i]\n",
    "        z.insert(0, c % b)\n",
    "        c = c // b\n",
    "        \n",
    "    z = strip_zeroes(z)\n",
    "    \n",
    "    # x was less than y, so was an invalid input tuple\n",
    "    if c < 0:\n",
    "        raise ValueError(\"x may not be smaller than y\")\n",
    "    \n",
    "    return z"
   ]
  },
  {
   "cell_type": "code",
   "execution_count": 233,
   "metadata": {},
   "outputs": [
    {
     "name": "stderr",
     "output_type": "stream",
     "text": [
      ".....\n",
      "----------------------------------------------------------------------\n",
      "Ran 5 tests in 0.522s\n",
      "\n",
      "OK\n"
     ]
    }
   ],
   "source": [
    "class TestSubtract(unittest.TestCase):\n",
    "    def test_valid_subtract(self):\n",
    "        self.assertEqual(subtract([1, 2, 3], [4, 5]), [7, 8])\n",
    "        self.assertEqual(subtract([4, 2, 7, 7], [2, 8, 9, 4]), [1, 3, 8, 3])\n",
    "        self.assertEqual(subtract([4, 2], [4, 2]), [])\n",
    "\n",
    "        # Let's add some non-determinism to tests. What could go wrong. (:\n",
    "        for i in range(10000):\n",
    "            x = random.randint(0, 10000)\n",
    "            y = random.randint(0, x)\n",
    "            z = x - y\n",
    "            self.assertEqual(subtract(digits(x), digits(y)), digits(z))\n",
    "        \n",
    "    def test_invalid_subtract(self):\n",
    "        # First argument must be larger than second\n",
    "        with self.assertRaises(ValueError):\n",
    "            subtract([4, 5], [1, 2, 3])\n",
    "        \n",
    "result = unittest.main(argv=[''], exit = False)"
   ]
  },
  {
   "cell_type": "markdown",
   "metadata": {},
   "source": [
    "Implementieren Sie den Algorithmus von Karatsuba, indem Sie eine Funktion schreiben, die bei Input zwei Listen von Zahlen in [0,...,b-1] die Liste zurückgibt, die das Produkt darstellt. Sie sollten dabei die Funktion addition und ihre eigene Funktion subtraktion benutzen. Sobald die Zahlen zu klein sind (vielleicht Länge < 6, experimentieren Sie!), sollen Sie statt Rekursion zu benutzen die Funktion slow_times benutzen. Zeigen Sie mit my_timeit das Verhalten Ihrer Funktion bis Zahlen der Grösse 100 oder 200. Hoffentlich ist ihre Funktion schneller als slow_times!"
   ]
  },
  {
   "cell_type": "code",
   "execution_count": 234,
   "metadata": {},
   "outputs": [],
   "source": [
    "def karatsuba_mult(x, y, slow_multiplication_threshold=40):\n",
    "    # Pad inputs to even length\n",
    "    if len(x) % 2 != 0:\n",
    "        x.insert(0, 0)\n",
    "    if len(y) % 2 != 0:\n",
    "        y.insert(0, 0)\n",
    "        \n",
    "    # Pad both inputs to same length.\n",
    "    if len(x) < len(y):\n",
    "        x = [0] * (len(y) - len(x)) + x\n",
    "    if len(y) < len(x):\n",
    "        y = [0] * (len(x) - len(y)) + y\n",
    "        \n",
    "    n = len(x)\n",
    "    n_half = int(n / 2) # Sage will turn n/2 into a rational otherwise\n",
    "    \n",
    "    # print(f\"Padded input lengths: {n}\")\n",
    "    \n",
    "    # Below a certain amount of digits, fall back to grade-school multiplication.\n",
    "    # Default was experimentally chosen to fit my hardware.\n",
    "    if n <= slow_multiplication_threshold:\n",
    "        mult = lambda x, y : slow_times(x, y)\n",
    "    else:\n",
    "        mult = lambda x, y: karatsuba_mult(x, y, slow_multiplication_threshold)\n",
    "        \n",
    "    x_high, x_low = x[: n_half], x[n_half :]\n",
    "    y_high, y_low = y[: n_half], y[n_half :]\n",
    "    \n",
    "    # x_hi * y_hi\n",
    "    x_high_y_high = mult(x_high, y_high)\n",
    "    \n",
    "    # x_lo * y_lo\n",
    "    x_low_y_low = mult(x_low, y_low)\n",
    "    \n",
    "    # x_hi * y_lo + x_lo * y_hi\n",
    "    x_y_highlow_sum = mult(\n",
    "            addition(x_high, x_low),\n",
    "            addition(y_high, y_low),\n",
    "    )\n",
    "    x_y_highlow_sum = subtract(\n",
    "        x_y_highlow_sum,\n",
    "        x_high_y_high,\n",
    "    )\n",
    "    x_y_highlow_sum = subtract(\n",
    "        x_y_highlow_sum,\n",
    "        x_low_y_low,\n",
    "    )\n",
    "     \n",
    "    # The result now is `(x_hi y_hi) * B^n + (x_hi y_low + x_low y_hi) * B^(n/2) + (x_low y_low) * B^0`\n",
    "    # Where `B` is the base (in our case 10), and `n` the `max { length(x), length(y) }` respectively\n",
    "    # We will achieve the multiplication with powers of the base by shifting the digits (right-padding with zero), \n",
    "    # and then add the results together.\n",
    "    x_high_y_high = x_high_y_high + [0] * n\n",
    "    x_y_highlow_sum = x_y_highlow_sum + [0] * n_half\n",
    "    \n",
    "    product = addition(\n",
    "        x_high_y_high,\n",
    "        x_y_highlow_sum,\n",
    "    )\n",
    "    product = addition(\n",
    "        product,\n",
    "        x_low_y_low,\n",
    "    )\n",
    "    \n",
    "    return product"
   ]
  },
  {
   "cell_type": "code",
   "execution_count": 235,
   "metadata": {},
   "outputs": [
    {
     "name": "stderr",
     "output_type": "stream",
     "text": [
      ".....\n",
      "----------------------------------------------------------------------\n",
      "Ran 5 tests in 0.531s\n",
      "\n",
      "OK\n"
     ]
    }
   ],
   "source": [
    "class TestKaratsubaMult(unittest.TestCase):\n",
    "    def test_valid_multiplication(self):\n",
    "        self.assertEqual(\n",
    "            karatsuba_mult(\n",
    "                digits(1234),\n",
    "                digits(5678),\n",
    "            ),\n",
    "            digits(7006652),\n",
    "        )\n",
    "        \n",
    "        self.assertEqual(\n",
    "            karatsuba_mult(\n",
    "                digits(139012),\n",
    "                digits(935),\n",
    "            ),\n",
    "            digits(129976220),\n",
    "        )\n",
    "        \n",
    "        # Let's add some non-determinism to tests. What could go wrong. (:\n",
    "        for i in range(100):\n",
    "            x = random.randint(0, 100000000)\n",
    "            y = random.randint(0, 100000000)\n",
    "            z = x * y\n",
    "            self.assertEqual(karatsuba_mult(digits(x), digits(y)), digits(z))\n",
    " \n",
    "result = unittest.main(argv=[''], exit = False)"
   ]
  },
  {
   "cell_type": "code",
   "execution_count": 245,
   "metadata": {},
   "outputs": [],
   "source": [
    "def karatsuba_times_test(n):\n",
    "    x = random.randint(10**(n-1), 10**n)\n",
    "    y = random.randint(10**(n-1), 10**n) \n",
    "    print(f\"{x} * {y} ({n} digits)\")\n",
    "    return karatsuba_mult(digits(x), digits(y), 40)"
   ]
  },
  {
   "cell_type": "code",
   "execution_count": 251,
   "metadata": {},
   "outputs": [
    {
     "data": {
      "image/png": "[encoded data removed]",
      "text/plain": [
       "Graphics object consisting of 1 graphics primitive"
      ]
     },
     "metadata": {},
     "output_type": "display_data"
    }
   ],
   "source": [
    "karatsuba_timings = my_timeit('karatsuba_times_test',[1..300]);"
   ]
  },
  {
   "cell_type": "code",
   "execution_count": 237,
   "metadata": {},
   "outputs": [
    {
     "data": {
      "image/png": "[encoded data removed]",
      "text/plain": [
       "Graphics object consisting of 1 graphics primitive"
      ]
     },
     "metadata": {},
     "output_type": "display_data"
    }
   ],
   "source": [
    "my_timeit('slow_times_test',[1..300]);"
   ]
  },
  {
   "cell_type": "markdown",
   "metadata": {},
   "source": [
    "While the custom implementation of Karatsuba is - for sufficiently large numbers - noticeably faster (e.g. 0.2s vs 0.5s for a 200 digit number), there is still a clear super-linear growth. Further the absolute running times are rather poor still."
   ]
  },
  {
   "cell_type": "code",
   "execution_count": 269,
   "metadata": {},
   "outputs": [
    {
     "name": "stdout",
     "output_type": "stream",
     "text": [
      "300\n"
     ]
    },
    {
     "data": {
      "text/plain": [
       "[a == (4.920442496241363e-05),\n",
       " b == 1.574118447347578,\n",
       " c == 0.0007705676719686398]"
      ]
     },
     "execution_count": 269,
     "metadata": {},
     "output_type": "execute_result"
    }
   ],
   "source": [
    "print(len(karatsuba_timings))\n",
    "data = [(i+1, karatsuba_timings[i]) for i in range(len(karatsuba_timings))]\n",
    "\n",
    "var('x, a, b, c')\n",
    "model(x) = a*x^(b) + c\n",
    "fit = find_fit(data, model)\n",
    "fit"
   ]
  },
  {
   "cell_type": "markdown",
   "metadata": {},
   "source": [
    "However, fitting a model $f(x) = a x^b + c$ (using scipy's least-squares optimizer) to the measurements results in an exponent of $\\approx 1.57$, which is very close to the expected $1.58$. As such the general structure of the implementation seems to be correct."
   ]
  },
  {
   "cell_type": "code",
   "execution_count": null,
   "metadata": {},
   "outputs": [],
   "source": []
  }
 ],
 "metadata": {
  "kernelspec": {
   "display_name": "SageMath 9.5",
   "language": "sage",
   "name": "sagemath"
  },
  "language_info": {
   "codemirror_mode": {
    "name": "ipython",
    "version": 3
   },
   "file_extension": ".py",
   "mimetype": "text/x-python",
   "name": "python",
   "nbconvert_exporter": "python",
   "pygments_lexer": "ipython3",
   "version": "3.10.2"
  }
 },
 "nbformat": 4,
 "nbformat_minor": 4
}

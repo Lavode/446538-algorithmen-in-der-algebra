{
 "cells": [
  {
   "cell_type": "markdown",
   "metadata": {},
   "source": [
    "<h1>Algorithmen in der Algebra, Woche 1</h1>"
   ]
  },
  {
   "cell_type": "code",
   "execution_count": null,
   "metadata": {},
   "outputs": [],
   "source": [
    "#Input: (f,r), where:\n",
    "#f is the function you want to test (between quotation marks),\n",
    "#r is the list of inputs you want to test it on.\n",
    "#Output: a list of times in seconds.\n",
    "#Also displays a plot of this list.\n",
    "from sage.misc.sage_timeit import sage_timeit\n",
    "def my_timeit(f,r):\n",
    "    for i in r:\n",
    "        L=flatten([sage_timeit(f+'('+str(i)+')', globals(), preparse=True, number=1, repeat=1).series for i in r])\n",
    "        list_plot(L).show()\n",
    "        return L"
   ]
  },
  {
   "cell_type": "markdown",
   "metadata": {},
   "source": [
    "<h2>Addition von nicht-negativen ganzen Zahlen</h2> "
   ]
  },
  {
   "cell_type": "code",
   "execution_count": null,
   "metadata": {},
   "outputs": [],
   "source": [
    "b=10;"
   ]
  },
  {
   "cell_type": "code",
   "execution_count": null,
   "metadata": {},
   "outputs": [],
   "source": [
    "def strip_zeroes(z):\n",
    "    zz=z[:] #Liste kopieren\n",
    "    while len(zz)>0 and zz[0]==0:\n",
    "        zz.pop(0)\n",
    "    return zz"
   ]
  },
  {
   "cell_type": "code",
   "execution_count": null,
   "metadata": {},
   "outputs": [],
   "source": [
    "#Beispiel\n",
    "strip_zeroes([0,0,1,2,0,4,0])"
   ]
  },
  {
   "cell_type": "code",
   "execution_count": null,
   "metadata": {},
   "outputs": [],
   "source": [
    "def addition(x,y):\n",
    "    m = len(x)\n",
    "    n = len(y)\n",
    "    c = 0\n",
    "    z = []\n",
    "    for i in [0..max(m,n)]:\n",
    "        if i < m:\n",
    "            c = c + x[m-i-1]\n",
    "        if i < n:\n",
    "            c = c + y[n-i-1]\n",
    "        z.insert(0,c%b)\n",
    "        c = c//b\n",
    "    z=strip_zeroes(z)\n",
    "    return z"
   ]
  },
  {
   "cell_type": "code",
   "execution_count": null,
   "metadata": {},
   "outputs": [],
   "source": [
    "addition([8,4,3],[2,7,9])"
   ]
  },
  {
   "cell_type": "code",
   "execution_count": null,
   "metadata": {},
   "outputs": [],
   "source": [
    "addition([3,8],[3,8,0])"
   ]
  },
  {
   "cell_type": "markdown",
   "metadata": {},
   "source": [
    "<h2>Langsame Multiplikation von zwei Zahlen</h2>"
   ]
  },
  {
   "cell_type": "code",
   "execution_count": null,
   "metadata": {},
   "outputs": [],
   "source": [
    "def slow_times(x,y):\n",
    "    z=[]\n",
    "    m=len(x)\n",
    "    for i in range(m):\n",
    "        for j in range(x[m-i-1]):\n",
    "            z=addition(z,y+(i*[0])) #Extra Nullen, da wir mit b^i multiplizieren müssen.\n",
    "    z=strip_zeroes(z)\n",
    "    return z"
   ]
  },
  {
   "cell_type": "code",
   "execution_count": null,
   "metadata": {
    "scrolled": true
   },
   "outputs": [],
   "source": [
    "slow_times([2,1],[3,8])"
   ]
  },
  {
   "cell_type": "code",
   "execution_count": null,
   "metadata": {},
   "outputs": [],
   "source": [
    "def slow_times_test(n): #berechnet das Produkt von zwei Zahlen der Länge n.\n",
    "    return slow_times([randint(0,9) for i in range(n)],[randint(0,9) for i in range(n)])"
   ]
  },
  {
   "cell_type": "code",
   "execution_count": null,
   "metadata": {
    "scrolled": false
   },
   "outputs": [],
   "source": [
    "my_timeit('slow_times_test',[1..100]);"
   ]
  },
  {
   "cell_type": "markdown",
   "metadata": {},
   "source": [
    "Man sieht das quadratische Verhalten."
   ]
  },
  {
   "cell_type": "code",
   "execution_count": null,
   "metadata": {},
   "outputs": [],
   "source": [
    "#Liste zu Zahl. Kannst du als \"black box\" verwenden.\n",
    "def liste_zu_zahl(numList):\n",
    "    s = ''.join([str(i) for i in numList]) #Example what \"join\" does: '.'.join(['ab', 'pq', 'rs']) -> 'ab.pq.rs'\n",
    "    return int(s)"
   ]
  },
  {
   "cell_type": "code",
   "execution_count": null,
   "metadata": {},
   "outputs": [],
   "source": [
    "#Beispiel\n",
    "liste_zu_zahl([5,3,1])"
   ]
  },
  {
   "cell_type": "code",
   "execution_count": null,
   "metadata": {},
   "outputs": [],
   "source": [
    "def usual_times_test(n): #berechnet das Produkt von zwei Zahlen der Länge n.\n",
    "    return liste_zu_zahl([randint(0,9) for i in range(n)])*liste_zu_zahl([randint(0,9) for i in range(n)])"
   ]
  },
  {
   "cell_type": "code",
   "execution_count": null,
   "metadata": {},
   "outputs": [],
   "source": [
    "my_timeit('usual_times_test',[1..1000]);"
   ]
  },
  {
   "cell_type": "markdown",
   "metadata": {},
   "source": [
    "Nicht nur ist die eingebaute Sage-Funktion Times viel schneller als SlowTimes; auch scheint das Verhalten gar nicht quadratisch."
   ]
  },
  {
   "cell_type": "markdown",
   "metadata": {},
   "source": [
    "<h2>Karatsuba</h2>"
   ]
  },
  {
   "cell_type": "markdown",
   "metadata": {},
   "source": [
    "Implementieren Sie eine Funktion Subtraktion, ähnlich wie Addition, wo die Voraussetzung ist, dass die von x dargestellte Zahl groesser ist als die von y dargestellte Zahl (so dass keine neuen Symbole für negative Zahlen benötigt werden)."
   ]
  },
  {
   "cell_type": "code",
   "execution_count": null,
   "metadata": {},
   "outputs": [],
   "source": []
  },
  {
   "cell_type": "markdown",
   "metadata": {},
   "source": [
    "Implementieren Sie den Algorithmus von Karatsuba, indem Sie eine Funktion schreiben, die bei Input zwei Listen von Zahlen in [0,...,b-1] die Liste zurückgibt, die das Produkt darstellt. Sie sollten dabei die Funktion addition und ihre eigene Funktion subtraktion benutzen. Sobald die Zahlen zu klein sind (vielleicht Länge < 6, experimentieren Sie!), sollen Sie statt Rekursion zu benutzen die Funktion slow_times benutzen. Zeigen Sie mit my_timeit das Verhalten Ihrer Funktion bis Zahlen der Grösse 100 oder 200. Hoffentlich ist ihre Funktion schneller als slow_times!"
   ]
  },
  {
   "cell_type": "code",
   "execution_count": null,
   "metadata": {},
   "outputs": [],
   "source": []
  }
 ],
 "metadata": {
  "kernelspec": {
   "display_name": "SageMath 9.0",
   "language": "sage",
   "name": "sagemath"
  },
  "language_info": {
   "codemirror_mode": {
    "name": "ipython",
    "version": 3
   },
   "file_extension": ".py",
   "mimetype": "text/x-python",
   "name": "python",
   "nbconvert_exporter": "python",
   "pygments_lexer": "ipython3",
   "version": "3.8.10"
  }
 },
 "nbformat": 4,
 "nbformat_minor": 4
}

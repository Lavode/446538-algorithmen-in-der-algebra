{
 "cells": [
  {
   "cell_type": "markdown",
   "metadata": {},
   "source": [
    "<h1> Algorithmen in der Algebra, Woche 8 </h1>\n",
    "<h2> Multivariate Polynome in Sage</h2>\n",
    "Wir können multivariate Polynomringe wie folgt definieren. $\\verb|order=\"lex\"|$ weist SageMath an, die Monome lexikografisch zu ordnen; wenn es weggelassen wird, wird es eine andere Wohlordnung für die Monome wählen (die sogenannte \"degree reverse lexicographic order\", die in der Vorlesung nicht behandelt wurde)."
   ]
  },
  {
   "cell_type": "code",
   "execution_count": 1,
   "metadata": {},
   "outputs": [],
   "source": [
    "R.<x1,x2,x3,x4> = PolynomialRing(QQ,order=\"lex\")"
   ]
  },
  {
   "cell_type": "markdown",
   "metadata": {},
   "source": [
    "$\\verb|f.monomials()|$ gibt die Liste der Monome zurück, lexikographisch geordnet.\n",
    "\n",
    "$\\verb|f.coefficients()|$ gibt die Liste der Koeffiziente, in der gleichen Reihenfolge."
   ]
  },
  {
   "cell_type": "code",
   "execution_count": 2,
   "metadata": {},
   "outputs": [
    {
     "name": "stdout",
     "output_type": "stream",
     "text": [
      "[x1*x4, x1, x2*x3]\n",
      "[1, 2, 7]\n"
     ]
    }
   ],
   "source": [
    "f=x1*x4+7*x2*x3+2*x1\n",
    "print(f.monomials())\n",
    "print(f.coefficients())"
   ]
  },
  {
   "cell_type": "markdown",
   "metadata": {},
   "source": [
    "\">\" vergleicht Monome in Bezug auf die gewählte Monomordnung (und <,<=,>= ähnlich)."
   ]
  },
  {
   "cell_type": "code",
   "execution_count": 3,
   "metadata": {},
   "outputs": [
    {
     "data": {
      "text/plain": [
       "True"
      ]
     },
     "execution_count": 3,
     "metadata": {},
     "output_type": "execute_result"
    }
   ],
   "source": [
    "x1*x4>x2*x3"
   ]
  },
  {
   "cell_type": "markdown",
   "metadata": {},
   "source": [
    "Verwenden Sie .divides(), um zu testen, ob ein Monom durch ein anderes teilbar ist."
   ]
  },
  {
   "cell_type": "code",
   "execution_count": 4,
   "metadata": {},
   "outputs": [
    {
     "data": {
      "text/plain": [
       "True"
      ]
     },
     "execution_count": 4,
     "metadata": {},
     "output_type": "execute_result"
    }
   ],
   "source": [
    "x1.divides(x1*x2)"
   ]
  },
  {
   "cell_type": "markdown",
   "metadata": {},
   "source": [
    "Um die Monome dann zu teilen, verwenden Sie \"//\" (und nicht \"/\", dann behandelt Sage es als rationale Funktion anstelle eines Polynoms)."
   ]
  },
  {
   "cell_type": "code",
   "execution_count": 5,
   "metadata": {},
   "outputs": [
    {
     "data": {
      "text/plain": [
       "x2"
      ]
     },
     "execution_count": 5,
     "metadata": {},
     "output_type": "execute_result"
    }
   ],
   "source": [
    "(x1*x2)//x1"
   ]
  },
  {
   "cell_type": "markdown",
   "metadata": {},
   "source": [
    "<h2> Aufgabe </h2>\n",
    "Implementieren Sie die Funktion Teilung."
   ]
  },
  {
   "cell_type": "code",
   "execution_count": null,
   "metadata": {},
   "outputs": [],
   "source": []
  },
  {
   "cell_type": "markdown",
   "metadata": {},
   "source": [
    "Sie können den folgenden Code verwenden, um Ihre Funktion zu testen (wenn Sie möchten, können Sie f und h durch andere Polynome ersetzen). Wenn es ausgeführt wird, ohne dass ein \"Assertion Error\" ausgelöst wird, bedeutet dies, dass das Ergebnis korrekt ist."
   ]
  },
  {
   "cell_type": "code",
   "execution_count": 6,
   "metadata": {},
   "outputs": [
    {
     "ename": "NameError",
     "evalue": "name 'teilung' is not defined",
     "output_type": "error",
     "traceback": [
      "\u001b[1;31m---------------------------------------------------------------------------\u001b[0m",
      "\u001b[1;31mNameError\u001b[0m                                 Traceback (most recent call last)",
      "Input \u001b[1;32mIn [6]\u001b[0m, in \u001b[0;36m<cell line: 3>\u001b[1;34m()\u001b[0m\n\u001b[0;32m      1\u001b[0m f\u001b[38;5;241m=\u001b[39mx1\u001b[38;5;241m*\u001b[39m\u001b[38;5;241m*\u001b[39mInteger(\u001b[38;5;241m3\u001b[39m)\u001b[38;5;241m*\u001b[39mx3\u001b[38;5;241m*\u001b[39m\u001b[38;5;241m*\u001b[39mInteger(\u001b[38;5;241m2\u001b[39m)\n\u001b[0;32m      2\u001b[0m h\u001b[38;5;241m=\u001b[39m[x1\u001b[38;5;241m*\u001b[39m\u001b[38;5;241m*\u001b[39mInteger(\u001b[38;5;241m2\u001b[39m)\u001b[38;5;241m+\u001b[39mx1\u001b[38;5;241m*\u001b[39mx2\u001b[38;5;241m*\u001b[39m\u001b[38;5;241m*\u001b[39mInteger(\u001b[38;5;241m2\u001b[39m),x1\u001b[38;5;241m*\u001b[39m\u001b[38;5;241m*\u001b[39mInteger(\u001b[38;5;241m2\u001b[39m)\u001b[38;5;241m*\u001b[39mx3\u001b[38;5;241m+\u001b[39mx4]\n\u001b[1;32m----> 3\u001b[0m (r,q)\u001b[38;5;241m=\u001b[39m\u001b[43mteilung\u001b[49m(f,h)\n\u001b[0;32m      4\u001b[0m \u001b[38;5;28mprint\u001b[39m(r)\n\u001b[0;32m      5\u001b[0m \u001b[38;5;28mprint\u001b[39m(q)\n",
      "\u001b[1;31mNameError\u001b[0m: name 'teilung' is not defined"
     ]
    }
   ],
   "source": [
    "f=x1^3*x3^2\n",
    "h=[x1^2+x1*x2^2,x1^2*x3+x4]\n",
    "(r,q)=teilung(f,h)\n",
    "print(r)\n",
    "print(q)\n",
    "k=len(h)\n",
    "assert(sum([q[i]*h[i] for i in range(k)])+r==f)\n",
    "for hi in h:\n",
    "    for mon in r.monomials():\n",
    "        assert not hi.monomials()[0].divides(mon)\n",
    "for i in range(k):\n",
    "    assert q[i]==0 or (q[i]*h[i]).monomials()[0] <= f.monomials()[0]"
   ]
  },
  {
   "cell_type": "code",
   "execution_count": 13,
   "metadata": {},
   "outputs": [
    {
     "data": {
      "text/plain": [
       "x3^2 * x1^3"
      ]
     },
     "execution_count": 13,
     "metadata": {},
     "output_type": "execute_result"
    }
   ],
   "source": [
    "f.factor()"
   ]
  },
  {
   "cell_type": "code",
   "execution_count": null,
   "metadata": {},
   "outputs": [],
   "source": []
  }
 ],
 "metadata": {
  "kernelspec": {
   "display_name": "SageMath 9.5",
   "language": "sage",
   "name": "sagemath"
  },
  "language_info": {
   "codemirror_mode": {
    "name": "ipython",
    "version": 3
   },
   "file_extension": ".py",
   "mimetype": "text/x-python",
   "name": "python",
   "nbconvert_exporter": "python",
   "pygments_lexer": "ipython3",
   "version": "3.10.4"
  }
 },
 "nbformat": 4,
 "nbformat_minor": 4
}

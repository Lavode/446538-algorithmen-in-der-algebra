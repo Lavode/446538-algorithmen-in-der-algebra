{
 "cells": [
  {
   "cell_type": "markdown",
   "metadata": {},
   "source": [
    "<h1> Algorithmen in der Algebra, Woche 8 </h1>\n",
    "<h2> Multivariate Polynome in Sage</h2>\n",
    "Wir können multivariate Polynomringe wie folgt definieren. $\\verb|order=\"lex\"|$ weist SageMath an, die Monome lexikografisch zu ordnen; wenn es weggelassen wird, wird es eine andere Wohlordnung für die Monome wählen (die sogenannte \"degree reverse lexicographic order\", die in der Vorlesung nicht behandelt wurde)."
   ]
  },
  {
   "cell_type": "code",
   "execution_count": 1,
   "metadata": {},
   "outputs": [],
   "source": [
    "R.<x1,x2,x3,x4> = PolynomialRing(QQ,order=\"lex\")"
   ]
  },
  {
   "cell_type": "markdown",
   "metadata": {},
   "source": [
    "$\\verb|f.monomials()|$ gibt die Liste der Monome zurück, lexikographisch geordnet.\n",
    "\n",
    "$\\verb|f.coefficients()|$ gibt die Liste der Koeffiziente, in der gleichen Reihenfolge."
   ]
  },
  {
   "cell_type": "code",
   "execution_count": 2,
   "metadata": {},
   "outputs": [
    {
     "name": "stdout",
     "output_type": "stream",
     "text": [
      "[x1*x4, x1, x2*x3]\n",
      "[1, 2, 7]\n"
     ]
    }
   ],
   "source": [
    "g=x1*x4+7*x2*x3+2*x1\n",
    "print(g.monomials())\n",
    "print(g.coefficients())"
   ]
  },
  {
   "cell_type": "markdown",
   "metadata": {},
   "source": [
    "\">\" vergleicht Monome in Bezug auf die gewählte Monomordnung (und <,<=,>= ähnlich)."
   ]
  },
  {
   "cell_type": "code",
   "execution_count": 3,
   "metadata": {},
   "outputs": [
    {
     "data": {
      "text/plain": [
       "True"
      ]
     },
     "execution_count": 3,
     "metadata": {},
     "output_type": "execute_result"
    }
   ],
   "source": [
    "x1*x4>x2*x3"
   ]
  },
  {
   "cell_type": "markdown",
   "metadata": {},
   "source": [
    "Verwenden Sie .divides(), um zu testen, ob ein Monom durch ein anderes teilbar ist."
   ]
  },
  {
   "cell_type": "code",
   "execution_count": 4,
   "metadata": {},
   "outputs": [
    {
     "data": {
      "text/plain": [
       "True"
      ]
     },
     "execution_count": 4,
     "metadata": {},
     "output_type": "execute_result"
    }
   ],
   "source": [
    "x1.divides(x1*x2)"
   ]
  },
  {
   "cell_type": "markdown",
   "metadata": {},
   "source": [
    "Um die Monome dann zu teilen, verwenden Sie \"//\" (und nicht \"/\", dann behandelt Sage es als rationale Funktion anstelle eines Polynoms)."
   ]
  },
  {
   "cell_type": "code",
   "execution_count": 5,
   "metadata": {},
   "outputs": [
    {
     "data": {
      "text/plain": [
       "x2"
      ]
     },
     "execution_count": 5,
     "metadata": {},
     "output_type": "execute_result"
    }
   ],
   "source": [
    "(x1*x2)//x1"
   ]
  },
  {
   "cell_type": "markdown",
   "metadata": {},
   "source": [
    "<h2> Aufgabe </h2>\n",
    "\n",
    "Implementieren Sie die Funktion Teilung."
   ]
  },
  {
   "cell_type": "code",
   "execution_count": 6,
   "metadata": {},
   "outputs": [],
   "source": [
    "import itertools\n",
    "\n",
    "def _find_hi_dividing_remainder_term(h, r):\n",
    "    # Tuples of (i, h_i) where h_i are values from h, i their indices\n",
    "    for i, hi in enumerate(h):\n",
    "        # Tuples of (c, x^a), where c * x^a is a term of r, and x^a a monomial\n",
    "        for c, xa in zip(r.coefficients(), r.monomials()):\n",
    "            # Leading monomial of h_i\n",
    "            lm = hi.lm()\n",
    "\n",
    "            if lm.divides(xa):\n",
    "                return i, hi, c, xa, True\n",
    "        \n",
    "    # None found\n",
    "    return None, None, None, None, False # Just pretend it's Go\n",
    "\n",
    "def _check_invariant(q, h, r, f):\n",
    "    # Check loop invariant for debugging purposes\n",
    "\n",
    "    # 1) sum(q_i * h_i) + r = f\n",
    "    assert sum([q[i]*h[i] for i in range(len(h))])+r == f\n",
    "\n",
    "    # 2) all monomials of r are <= LM(f)\n",
    "    for rm in r.monomials():\n",
    "        assert rm <= f.lm()\n",
    "\n",
    "    # 3) all monomials in product q_i * h_i are <= LM(f)\n",
    "    for i in range(len(q)):\n",
    "        for m in (q[i]*h[i]).monomials():\n",
    "            assert m <= f.lm()\n",
    "\n",
    "\n",
    "def teilung(f, h):\n",
    "    # Enforce h_i being monic\n",
    "    for hi in h:\n",
    "        if hi.lc() != 1:\n",
    "            raise ValueError(f\"h_i must be monic, but was {hi}\")\n",
    "    \n",
    "    # q_i = 0\n",
    "    q = [0]*len(h)        \n",
    "    r = f\n",
    "    \n",
    "    while True:\n",
    "        i, hi, c, xa, found = _find_hi_dividing_remainder_term(h, r)\n",
    "        \n",
    "        if found:\n",
    "            lt = hi.lt()\n",
    "            # Update remainder & quotient\n",
    "            r -= c * (xa // lt) * hi\n",
    "            q[i] += c * (xa // lt)\n",
    "            \n",
    "            # Sufficient to check invariant if we actually performed any work\n",
    "            if CHECK_INVARIANT:\n",
    "                _check_invariant(q, h, r, f)\n",
    "            \n",
    "        else:\n",
    "            # No more h_i found such that LM(h_i) divides a monomial of r\n",
    "            return r, q"
   ]
  },
  {
   "cell_type": "markdown",
   "metadata": {},
   "source": [
    "Sie können den folgenden Code verwenden, um Ihre Funktion zu testen (wenn Sie möchten, können Sie f und h durch andere Polynome ersetzen). Wenn es ausgeführt wird, ohne dass ein \"Assertion Error\" ausgelöst wird, bedeutet dies, dass das Ergebnis korrekt ist."
   ]
  },
  {
   "cell_type": "code",
   "execution_count": 7,
   "metadata": {},
   "outputs": [
    {
     "name": "stdout",
     "output_type": "stream",
     "text": [
      "Testing with f = x1^3*x2^2*x4^5 + x1^3*x3^2\n",
      "\tDivisors: [x1^2 + x1*x2^2, x1^2*x3 + x4]\n",
      "\tQuotients: [x1*x2^2*x4^5 + x1*x3^2 - x2^4*x4^5 - x2^2*x3^2, 0]\n",
      "\tRemainder: x1*x2^6*x4^5 + x1*x2^4*x3^2\n",
      "Testing with f = x1^5*x3^2\n",
      "\tDivisors: [x1^2 + x1*x2^2, x1^2*x3 + x4]\n",
      "\tQuotients: [x1^3*x3^2 - x1^2*x2^2*x3^2 + x1*x2^4*x3^2 - x2^6*x3^2, 0]\n",
      "\tRemainder: x1*x2^8*x3^2\n",
      "Testing with f = x1^3*x3^2\n",
      "\tDivisors: [x1^2 + x1*x2^2, x1^2*x3 + x4]\n",
      "\tQuotients: [x1*x3^2 - x2^2*x3^2, 0]\n",
      "\tRemainder: x1*x2^4*x3^2\n"
     ]
    }
   ],
   "source": [
    "# Check invariants within loop body for testing purposes\n",
    "CHECK_INVARIANT = True\n",
    "\n",
    "def test_divide():\n",
    "    fs = [\n",
    "        x1^3*x3^2 + x2^2*x4^5*x1^3,\n",
    "        x1^5*x3^2,\n",
    "        x1^3*x3^2\n",
    "    ]\n",
    "\n",
    "    h=[x1^2+x1*x2^2,x1^2*x3+x4]\n",
    "\n",
    "    for f in fs:\n",
    "        print(f\"Testing with f = {f}\")\n",
    "        (r,q)=teilung(f,h)\n",
    "        print(f\"\\tDivisors: {h}\")\n",
    "        print(f\"\\tQuotients: {q}\")\n",
    "        print(f\"\\tRemainder: {r}\")\n",
    "        k=len(h)\n",
    "\n",
    "        # sum(q_i * h_i) + r = f\n",
    "        assert(sum([q[i]*h[i] for i in range(k)])+r==f)\n",
    "\n",
    "        # LM(h_i) does not divide any monomial of r\n",
    "        for hi in h:\n",
    "            for mon in r.monomials():\n",
    "                assert not hi.monomials()[0].divides(mon)\n",
    "\n",
    "        for i in range(k):\n",
    "            # q_i * h_i < LM(f)\n",
    "            assert q[i]==0 or (q[i]*h[i]).monomials()[0] <= f.monomials()[0]\n",
    "            \n",
    "test_divide()"
   ]
  },
  {
   "cell_type": "code",
   "execution_count": null,
   "metadata": {},
   "outputs": [],
   "source": []
  }
 ],
 "metadata": {
  "kernelspec": {
   "display_name": "SageMath 9.5",
   "language": "sage",
   "name": "sagemath"
  },
  "language_info": {
   "codemirror_mode": {
    "name": "ipython",
    "version": 3
   },
   "file_extension": ".py",
   "mimetype": "text/x-python",
   "name": "python",
   "nbconvert_exporter": "python",
   "pygments_lexer": "ipython3",
   "version": "3.10.4"
  }
 },
 "nbformat": 4,
 "nbformat_minor": 4
}

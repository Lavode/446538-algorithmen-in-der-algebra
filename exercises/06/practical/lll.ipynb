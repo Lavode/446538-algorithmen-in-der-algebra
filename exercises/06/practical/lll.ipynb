{
 "cells": [
  {
   "cell_type": "markdown",
   "metadata": {},
   "source": [
    "<h1>Lenstra-Lenstra-Lovász</h1>\n",
    "<h2>Konstruktion einer Gitterbasis</h2>"
   ]
  },
  {
   "cell_type": "code",
   "execution_count": 31,
   "metadata": {},
   "outputs": [],
   "source": [
    "n = 10; m = 5;"
   ]
  },
  {
   "cell_type": "code",
   "execution_count": 32,
   "metadata": {},
   "outputs": [
    {
     "data": {
      "text/plain": [
       "[-7 -8 -7 -1 -6  9  1  2  2 -4]\n",
       "[ 7 -3  3 -2  2  8  9 10 -3 -2]\n",
       "[ 6 -6  2 -6  7  4 10  6  2  7]\n",
       "[-3 -9 10 -7  4 -3  7  3 -1 -8]\n",
       "[ 7  9 -6 -2  2  4  9  6 -7 -1]"
      ]
     },
     "execution_count": 32,
     "metadata": {},
     "output_type": "execute_result"
    }
   ],
   "source": [
    "B=random_matrix(ZZ,m,n,x=-10,y=11)\n",
    "B"
   ]
  },
  {
   "cell_type": "markdown",
   "metadata": {},
   "source": [
    "Dies definiert ein Gitter im $\\mathbb{R}^n$ (erzeugt von den Zeilen)."
   ]
  },
  {
   "cell_type": "code",
   "execution_count": 33,
   "metadata": {},
   "outputs": [],
   "source": [
    "def random_elementary_matrix():\n",
    "    #generate 2 distinct numbers a and b\n",
    "    a=randint(0,m-1)\n",
    "    b=randint(0,m-2)\n",
    "    if b==a:\n",
    "        b=m-1\n",
    "    return elementary_matrix(m,row1=a,row2=b,scale=ZZ(randint(-10,10)))"
   ]
  },
  {
   "cell_type": "code",
   "execution_count": 34,
   "metadata": {},
   "outputs": [
    {
     "data": {
      "text/plain": [
       "[   261039946   -251310829     23776251    171600424   -110118299    521133664     27497004    335385757    102344877    158921153]\n",
       "[  1280124843  -1232411119    116596448    841517747   -540013093   2555607665    134844729   1644711793    501891793    779339259]\n",
       "[ -8546736696   8228225962   -778471942  -5618397550   3605402809 -17062512832   -900270300 -10980907672  -3350903098  -5203265223]\n",
       "[  2844123364  -2738131448    259054411   1869651066  -1199780738   5677943798    299585716   3654149754   1115090056   1731506225]\n",
       "[-15962462884  15367544417  -1453910600 -10493284427   6733682131 -31867071805  -1681423226 -20508674708  -6258345677  -9717953821]"
      ]
     },
     "execution_count": 34,
     "metadata": {},
     "output_type": "execute_result"
    }
   ],
   "source": [
    "BB=B\n",
    "for i in range(40):\n",
    "    BB=random_elementary_matrix()*BB\n",
    "BB"
   ]
  },
  {
   "cell_type": "markdown",
   "metadata": {},
   "source": [
    "Die Zeilen von BB spannen immer noch das gleiche Gitter auf wie die Zeilen von B."
   ]
  },
  {
   "cell_type": "markdown",
   "metadata": {},
   "source": [
    "<h2>Weitere Funktionen</h2>\n",
    "Einige weitere einfache Sage-funktionen, die nützlich sein könnten."
   ]
  },
  {
   "cell_type": "markdown",
   "metadata": {},
   "source": [
    "Skalarprodukt $v^Tw$ von Vektoren:"
   ]
  },
  {
   "cell_type": "code",
   "execution_count": 7,
   "metadata": {},
   "outputs": [
    {
     "data": {
      "text/plain": [
       "11"
      ]
     },
     "execution_count": 7,
     "metadata": {},
     "output_type": "execute_result"
    }
   ],
   "source": [
    "v=vector([1,2,3])\n",
    "w=vector([7,2,0])\n",
    "v*w"
   ]
  },
  {
   "cell_type": "markdown",
   "metadata": {},
   "source": [
    "Einträge vertauschen:"
   ]
  },
  {
   "cell_type": "code",
   "execution_count": 8,
   "metadata": {},
   "outputs": [
    {
     "data": {
      "text/plain": [
       "(1, 3, 2)"
      ]
     },
     "execution_count": 8,
     "metadata": {},
     "output_type": "execute_result"
    }
   ],
   "source": [
    "(v[1],v[2])=(v[2],v[1])\n",
    "v"
   ]
  },
  {
   "cell_type": "markdown",
   "metadata": {},
   "source": [
    "Runden zur nächsten ganzen Zahl:"
   ]
  },
  {
   "cell_type": "code",
   "execution_count": 9,
   "metadata": {},
   "outputs": [
    {
     "data": {
      "text/plain": [
       "9"
      ]
     },
     "execution_count": 9,
     "metadata": {},
     "output_type": "execute_result"
    }
   ],
   "source": [
    "(8.62).round()"
   ]
  },
  {
   "cell_type": "markdown",
   "metadata": {},
   "source": [
    "<h2>Aufgabe</h2>\n",
    "Implementieren Sie LLL mit delta=3/4 und wenden Sie den Algorithmus auf das von den Zeilen von BB aufgespannte Gitter an. Bekommt man das urspruengliche B zurueck?"
   ]
  },
  {
   "cell_type": "code",
   "execution_count": 10,
   "metadata": {},
   "outputs": [],
   "source": [
    "def gram_schmidt(base):\n",
    "    \"\"\"Calculates the gram-schmidt base of the base defined by the rows of the given matrix\"\"\"\n",
    "    \n",
    "    gs_base = Matrix(base.base_ring(), *base.dimensions())\n",
    "    \n",
    "    for i, base_vector in enumerate(base):\n",
    "        gs_base_vector = base_vector\n",
    "        \n",
    "        # SUM (for j = 0 to i - 1)\n",
    "        for j in range(0, i): # Mind that range() is a semi-open interval, i is exclusive.\n",
    "            # In Sage, * for vectors denotes the inner product - which is what we want\n",
    "            scalar = (base_vector* gs_base[j]) / (gs_base[j] *gs_base[j])\n",
    "            gs_base_vector -= scalar * base_vector\n",
    "\n",
    "        gs_base[i] = gs_base_vector\n",
    "        \n",
    "    return gs_base"
   ]
  },
  {
   "cell_type": "code",
   "execution_count": 11,
   "metadata": {},
   "outputs": [
    {
     "name": "stdout",
     "output_type": "stream",
     "text": [
      "Skipping due to division by zero\n",
      "Skipping due to division by zero\n",
      "Skipping due to division by zero\n",
      "Skipping due to division by zero\n",
      "Skipping due to division by zero\n"
     ]
    }
   ],
   "source": [
    "# Every week my 'tests' are straying farther from the light.\n",
    "for i in range(100):\n",
    "    try:\n",
    "        x, y = randint(2, 15), randint(2, 15)\n",
    "        m = random_matrix(QQ, x, y)\n",
    "        my_gs = gram_schmidt(m)\n",
    "        sage_gs, _ = m.gram_schmidt()\n",
    "        \n",
    "        if my_gs.row_space() != sage_gs.row_space():\n",
    "            print(f\"Sagemath GS base and custom implementation did not produce equivalent base for input {m}\")\n",
    "            assert(False)\n",
    "            \n",
    "    except ZeroDivisionError:\n",
    "        # I'm sure there'd be a way to construct matrices such that we do not produce \n",
    "        # divisions by zero in GS reduction, but that would require thinking.\n",
    "        print(\"Skipping due to division by zero\")\n",
    "        continue\n"
   ]
  },
  {
   "cell_type": "code",
   "execution_count": 190,
   "metadata": {},
   "outputs": [],
   "source": [
    "def lll(base, delta=3/4):\n",
    "    # Base vectors are m rows of base matrix\n",
    "    m = base.dimensions()[0]\n",
    "    lll_base = copy(base)\n",
    "    \n",
    "    done = False\n",
    "      \n",
    "    while not done:\n",
    "        # GS will not work over the integers, so we'll use double-precision floats\n",
    "        gs_base = gram_schmidt(lll_base.change_ring(RDF))\n",
    "        # gs_base, _ = lll_base.change_ring(RDF).gram_schmidt()\n",
    "        \n",
    "        for i in range(1, m): # [1, m-1]\n",
    "            for j in range(i-1, -1, -1): # [i-1, 0]\n",
    "                tmp = (lll_base[i] * gs_base[j]) / (gs_base[j] * gs_base[j])\n",
    "                lll_base[i] -= round(tmp) * lll_base[j]\n",
    "        \n",
    "        done = True\n",
    "        for i in range(0, m-1): # [0, m-2]\n",
    "            mu = (lll_base[i + 1] * gs_base[i]) / (gs_base[i] * gs_base[i])\n",
    "            \n",
    "            threshold = ((mu * gs_base[i] + gs_base[i + 1]).norm())^2\n",
    "            if delta * (gs_base[i].norm())^2 > threshold:\n",
    "                done = False\n",
    "                break\n",
    "                \n",
    "        if not done:\n",
    "            lll_base[i], lll_base[i + 1] = lll_base[i + 1], lll_base[i]\n",
    "            \n",
    "    \n",
    "    return lll_base"
   ]
  },
  {
   "cell_type": "code",
   "execution_count": 184,
   "metadata": {},
   "outputs": [
    {
     "name": "stdout",
     "output_type": "stream",
     "text": [
      "(1, 0, 5) (-0.3015113445777635, 0.30151134457776363, -0.9045340337332909)\n",
      "(1, 2, 6) (0.2752409412815895, -0.8807710121010887, -0.385337317794226)\n",
      "(25, -18, 86) (-0.3015113445777635, 0.30151134457776363, -0.9045340337332909)\n",
      "[ 1 -1  3]\n",
      "[ 1  0  5]\n",
      "[ 1  2  6]\n",
      "----\n",
      "[ 1 -1  0]\n",
      "[-1  0  1]\n",
      "[ 1  1  1]\n",
      "----\n",
      "[ 0  1 -1]\n",
      "[ 1  0  0]\n",
      "[ 0  1  2]\n",
      "----\n",
      "[ 0 -1  1]\n",
      "[ 1 -1  0]\n",
      "[ 1  1  1]\n",
      "A vs A.LLL True\n",
      "A vs Mine True\n",
      "A vs Wiki False\n",
      "A vs Wolfram True\n"
     ]
    }
   ],
   "source": [
    "A = matrix(ZZ, [[1, -1, 3], [1, 0, 5], [1, 2, 6]])\n",
    "A_lll = A.LLL()\n",
    "Mine = lll(A)\n",
    "Wiki = matrix(ZZ, [[0, 1, -1], [1, 0, 0], [0, 1, 2]])\n",
    "Wolfram = matrix(ZZ, [[0, -1, 1], [1, -1, 0], [1, 1, 1]])\n",
    "\n",
    "print(A, A_lll, Wiki, Wolfram, sep=\"\\n----\\n\")\n",
    "print(\"A vs A.LLL\", A.row_space() == A_lll.row_space())\n",
    "print(\"A vs Mine\", A.row_space() == Mine.row_space())\n",
    "print(\"A vs Wiki\", A.row_space() == Wiki.row_space())\n",
    "print(\"A vs Wolfram\", A.row_space() == Wolfram.row_space())"
   ]
  },
  {
   "cell_type": "code",
   "execution_count": 192,
   "metadata": {},
   "outputs": [
    {
     "name": "stdout",
     "output_type": "stream",
     "text": [
      "LLL reduced base in custom implementation:\n",
      "[   -9602    11018     -243    -6758     5068   -21778    -1134   -13570    -4382    -5933]\n",
      "[  -28965   -17688    -8674    -6716    -9301    -2702    -6385   -12341     8006   -11159]\n",
      "[  -18764     5867   -36464   -11862   -12868    15996    18214     4701   -13559   -23453]\n",
      "[  -30838   -18774   -23343    -8369   -16275    13539     2186    -3735     3650   -17751]\n",
      "[ -141509   535749 -1002717  -289989  -224375   452041   677705   297149  -583435  -575950]\n",
      "Sagemath implementation:\n",
      "[ 1  3  1  4 -5  4 -1  4 -5 -9]\n",
      "[-3  3  1 -7  4 -7  7 -1 -5 -7]\n",
      "[ 0 12 -9  0  0 -4  0 -4 -4  1]\n",
      "[ 7  9 -6 -2  2  4  9  6 -7 -1]\n",
      "[-7 -8 -7 -1 -6  9  1  2  2 -4]\n"
     ]
    }
   ],
   "source": [
    "lll_bb = lll(BB, delta=0.75)\n",
    "\n",
    "print(f\"LLL reduced base in custom implementation:\\n{lll_bb}\")\n",
    "print(f\"Sagemath implementation:\\n{BB.LLL()}\")"
   ]
  },
  {
   "cell_type": "code",
   "execution_count": 137,
   "metadata": {},
   "outputs": [
    {
     "name": "stdout",
     "output_type": "stream",
     "text": [
      "True\n",
      "True\n",
      "True\n"
     ]
    }
   ],
   "source": [
    "print(B.row_space() == BB.row_space())\n",
    "print(B.row_space() == BB.LLL().row_space())\n",
    "print(B.row_space() == lll_bb.row_space())"
   ]
  },
  {
   "cell_type": "code",
   "execution_count": 180,
   "metadata": {},
   "outputs": [],
   "source": [
    "BB.gram_schmidt?"
   ]
  },
  {
   "cell_type": "code",
   "execution_count": null,
   "metadata": {},
   "outputs": [],
   "source": []
  }
 ],
 "metadata": {
  "kernelspec": {
   "display_name": "SageMath 9.5",
   "language": "sage",
   "name": "sagemath"
  },
  "language_info": {
   "codemirror_mode": {
    "name": "ipython",
    "version": 3
   },
   "file_extension": ".py",
   "mimetype": "text/x-python",
   "name": "python",
   "nbconvert_exporter": "python",
   "pygments_lexer": "ipython3",
   "version": "3.10.4"
  }
 },
 "nbformat": 4,
 "nbformat_minor": 4
}

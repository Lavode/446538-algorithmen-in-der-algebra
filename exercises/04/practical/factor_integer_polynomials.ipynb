{
 "cells": [
  {
   "cell_type": "markdown",
   "metadata": {},
   "source": [
    "<h1>Hensel und FaktorI</h1>\n",
    "<h2>Basisbefehle</h2>\n",
    "Sie duerfen jetzt Sage's eingebaute Funktion fuer Berlekamp benutzen, also z.B."
   ]
  },
  {
   "cell_type": "code",
   "execution_count": 13,
   "metadata": {},
   "outputs": [],
   "source": [
    "R.<x> = PolynomialRing(ZZ)\n",
    "f = x^4+1\n",
    "\n",
    "S.<u> = PolynomialRing(QQ)"
   ]
  },
  {
   "cell_type": "code",
   "execution_count": 22,
   "metadata": {},
   "outputs": [
    {
     "name": "stdout",
     "output_type": "stream",
     "text": [
      "(x^2 + 5*x + 1) * (x^2 + 18*x + 1)\n"
     ]
    },
    {
     "data": {
      "text/plain": [
       "[x + 2]"
      ]
     },
     "execution_count": 22,
     "metadata": {},
     "output_type": "execute_result"
    }
   ],
   "source": [
    "p = 17\n",
    "\n",
    "print(f.factor_mod(p))\n",
    "a = x + 2\n",
    "b = x + 8\n",
    "c = x + 9\n",
    "d = x + 15\n",
    "\n",
    "a.base_extend(QQ).hensel_lift(p, 17)"
   ]
  },
  {
   "cell_type": "markdown",
   "metadata": {},
   "source": [
    "Aber Sie duerfen natuerlich nicht Factor ohne Modulus benutzen; darum geht es ja in FaktorI.\n",
    "\n",
    "Um Polynome modulo p zu reduzieren, ist es am besten \"base_extend\" zu verwenden: "
   ]
  },
  {
   "cell_type": "code",
   "execution_count": 8,
   "metadata": {},
   "outputs": [],
   "source": [
    "g=f.base_extend(GF(23))"
   ]
  },
  {
   "cell_type": "markdown",
   "metadata": {},
   "source": [
    "\n",
    "Eine Alternative zum obigen \"factor_mod\" wäre also:"
   ]
  },
  {
   "cell_type": "code",
   "execution_count": 9,
   "metadata": {},
   "outputs": [
    {
     "data": {
      "text/plain": [
       "(x^2 + 5*x + 1) * (x^2 + 18*x + 1)"
      ]
     },
     "execution_count": 9,
     "metadata": {},
     "output_type": "execute_result"
    }
   ],
   "source": [
    "g.factor() #Dies ist erlaubt, weil g in F_p[x] lebt, nicht in Z[x]. Oder benutze deine Berlekamp von Woche 3!"
   ]
  },
  {
   "cell_type": "markdown",
   "metadata": {},
   "source": [
    "Um etwas mit der Output von \"factor\" oder \"factor_mod\" zu machen, können wir eine Schleife verwenden:"
   ]
  },
  {
   "cell_type": "code",
   "execution_count": 10,
   "metadata": {},
   "outputs": [
    {
     "name": "stdout",
     "output_type": "stream",
     "text": [
      "Faktor: x^2 + 5*x + 1, Potenz: 1\n",
      "Faktor: x^2 + 18*x + 1, Potenz: 1\n"
     ]
    }
   ],
   "source": [
    "for (h,e) in f.factor_mod(23):\n",
    "    print('Faktor: ' + str(h) + ', Potenz: ' + str(e))"
   ]
  },
  {
   "cell_type": "markdown",
   "metadata": {},
   "source": [
    "Sie können den erweiterten euklidischen Algorithmus ausführen mit \"xgcd\":"
   ]
  },
  {
   "cell_type": "code",
   "execution_count": 11,
   "metadata": {},
   "outputs": [
    {
     "name": "stdout",
     "output_type": "stream",
     "text": [
      "q=x + 1\n",
      "a=2\n",
      "b=x^2 + x\n"
     ]
    }
   ],
   "source": [
    "g=(x^4 - 1).base_extend(GF(3))\n",
    "h=(x^2 + 2*x + 1).base_extend(GF(3))\n",
    "q, a, b = xgcd(g,h)\n",
    "print('q='+str(q))\n",
    "print('a='+str(a))\n",
    "print('b='+str(b))"
   ]
  },
  {
   "cell_type": "code",
   "execution_count": 12,
   "metadata": {},
   "outputs": [
    {
     "data": {
      "text/plain": [
       "True"
      ]
     },
     "execution_count": 12,
     "metadata": {},
     "output_type": "execute_result"
    }
   ],
   "source": [
    "q==a*g+b*h"
   ]
  },
  {
   "cell_type": "markdown",
   "metadata": {},
   "source": [
    "In FaktorI braucht man eine Primzahl p, wofuer beim Berechnen vom ggT von f und f' nie durch p geteilt werden muss. Es reicht dazu, dass p nicht die Diskriminante von f teilt:"
   ]
  },
  {
   "cell_type": "code",
   "execution_count": 13,
   "metadata": {},
   "outputs": [
    {
     "data": {
      "text/plain": [
       "256"
      ]
     },
     "execution_count": 13,
     "metadata": {},
     "output_type": "execute_result"
    }
   ],
   "source": [
    "f.discriminant()"
   ]
  },
  {
   "cell_type": "markdown",
   "metadata": {},
   "source": [
    "Die Norm $||f||$ eines Polynoms könner wir berechnen mit \".norm(2)\" "
   ]
  },
  {
   "cell_type": "code",
   "execution_count": 14,
   "metadata": {},
   "outputs": [
    {
     "data": {
      "text/plain": [
       "1.41421356237310"
      ]
     },
     "execution_count": 14,
     "metadata": {},
     "output_type": "execute_result"
    }
   ],
   "source": [
    "f.norm(2)"
   ]
  },
  {
   "cell_type": "markdown",
   "metadata": {},
   "source": [
    "Schließlich sind hier noch einige weitere Funktionen, die nützlich sein könnten:"
   ]
  },
  {
   "cell_type": "code",
   "execution_count": 15,
   "metadata": {},
   "outputs": [
    {
     "data": {
      "text/plain": [
       "21"
      ]
     },
     "execution_count": 15,
     "metadata": {},
     "output_type": "execute_result"
    }
   ],
   "source": [
    "binomial(7,2)"
   ]
  },
  {
   "cell_type": "code",
   "execution_count": 16,
   "metadata": {},
   "outputs": [
    {
     "data": {
      "text/plain": [
       "521"
      ]
     },
     "execution_count": 16,
     "metadata": {},
     "output_type": "execute_result"
    }
   ],
   "source": [
    "512.next_prime()"
   ]
  },
  {
   "cell_type": "code",
   "execution_count": 17,
   "metadata": {},
   "outputs": [
    {
     "data": {
      "text/plain": [
       "True"
      ]
     },
     "execution_count": 17,
     "metadata": {},
     "output_type": "execute_result"
    }
   ],
   "source": [
    "13.divides(91)"
   ]
  },
  {
   "cell_type": "code",
   "execution_count": 18,
   "metadata": {},
   "outputs": [
    {
     "name": "stdout",
     "output_type": "stream",
     "text": [
      "[]\n",
      "[1]\n",
      "[2]\n",
      "[1, 2]\n",
      "[3]\n",
      "[1, 3]\n",
      "[2, 3]\n",
      "[1, 2, 3]\n"
     ]
    }
   ],
   "source": [
    "for S in subsets([1,2,3]):\n",
    "    print(S)"
   ]
  },
  {
   "cell_type": "code",
   "execution_count": 19,
   "metadata": {},
   "outputs": [
    {
     "data": {
      "text/plain": [
       "4*x^3"
      ]
     },
     "execution_count": 19,
     "metadata": {},
     "output_type": "execute_result"
    }
   ],
   "source": [
    "f.derivative()"
   ]
  },
  {
   "cell_type": "code",
   "execution_count": 20,
   "metadata": {},
   "outputs": [
    {
     "data": {
      "text/plain": [
       "True"
      ]
     },
     "execution_count": 20,
     "metadata": {},
     "output_type": "execute_result"
    }
   ],
   "source": [
    "f.is_monic()"
   ]
  },
  {
   "cell_type": "code",
   "execution_count": 21,
   "metadata": {},
   "outputs": [
    {
     "data": {
      "text/plain": [
       "1"
      ]
     },
     "execution_count": 21,
     "metadata": {},
     "output_type": "execute_result"
    }
   ],
   "source": [
    "f.leading_coefficient()"
   ]
  },
  {
   "cell_type": "code",
   "execution_count": 22,
   "metadata": {},
   "outputs": [
    {
     "name": "stdout",
     "output_type": "stream",
     "text": [
      "(x^3 - x^2 + x - 1, 2)\n"
     ]
    },
    {
     "data": {
      "text/plain": [
       "True"
      ]
     },
     "execution_count": 22,
     "metadata": {},
     "output_type": "execute_result"
    }
   ],
   "source": [
    "q=f//(x+1) #euclidean division of polynomials\n",
    "r=f%(x+1)\n",
    "print((q,r))\n",
    "f==q*(x+1)+r"
   ]
  },
  {
   "cell_type": "code",
   "execution_count": 23,
   "metadata": {},
   "outputs": [
    {
     "data": {
      "text/plain": [
       "x^4 - x^3 + x"
      ]
     },
     "execution_count": 23,
     "metadata": {},
     "output_type": "execute_result"
    }
   ],
   "source": [
    "x^4+R.random_element(3) #To test your functions"
   ]
  },
  {
   "cell_type": "markdown",
   "metadata": {},
   "source": [
    "<h2>Aufgabe</h2>\n",
    "\n",
    "Schreibe eine Funktion Hensel, der bei Input monische Polynome $f,g,h$ in $\\mathbb{Z}[x]$ und eine Primzahl $p$ mit $f=gh \\mod p$ und $ggT(g \\mod p,h \\mod p)=1$ und eine Zahl $k>0$ monische Polynome $u,v$ findet mit $f=uv \\mod p^k$ und $u=g \\mod p$ und $v=h \\mod p$."
   ]
  },
  {
   "cell_type": "code",
   "execution_count": 51,
   "metadata": {},
   "outputs": [
    {
     "name": "stdout",
     "output_type": "stream",
     "text": [
      "x^4 + 1\n",
      "Hensel lift: x^2 + 12011*x + 1, x^2 + 156*x + 1\n",
      "True\n"
     ]
    }
   ],
   "source": [
    "def hensel(f, g, h, p, k):\n",
    "    if (g*h) != f:\n",
    "        raise ArgumentError(f\"g and h must be sole factors of f, got g * h = {g * h}\")\n",
    "        \n",
    "    \n"
   ]
  },
  {
   "cell_type": "markdown",
   "metadata": {},
   "source": [
    "Schreibe eine Funktion FaktorI wie in der Vorlesung, der einen Faktor von $f$ findet von hoechsten dem halben Grad, oder \"$f$ ist irreduzibel\" zurueckgibt. Sie duerfen als extra Voraussetzung annehmen, dass $f$  (in $\\mathbb{Z}[x]$) monisch ist.\n",
    "\n",
    "Als Zwischenschritte könnte a sinnvoll sein zu schreiben:\n",
    " <ul>\n",
    "  <li>eine Funktion, die den quadratfreien Teil eines gegebenen (monischen) Polynoms berechnet,</li>\n",
    "  <li>eine Funktion \"multiple_hensel\", der bei Input monische Polynome $f, g_1,...,g_r$ in $\\mathbb{Z}[x]$ und eine Primzahl $p$ mit $f=\\prod{g_i} \\mod p$ und $ggT(g_i \\mod p,g_j \\mod p)=1$ und eine Zahl $k>0$ monische Polynome $u_1,\\ldots,u_r$ findet mit $f=\\prod{g_i} \\mod p^k$ und $u_i=g_i \\mod p$.</li>\n",
    "</ul> "
   ]
  },
  {
   "cell_type": "code",
   "execution_count": null,
   "metadata": {},
   "outputs": [],
   "source": []
  }
 ],
 "metadata": {
  "kernelspec": {
   "display_name": "SageMath 9.5",
   "language": "sage",
   "name": "sagemath"
  },
  "language_info": {
   "codemirror_mode": {
    "name": "ipython",
    "version": 3
   },
   "file_extension": ".py",
   "mimetype": "text/x-python",
   "name": "python",
   "nbconvert_exporter": "python",
   "pygments_lexer": "ipython3",
   "version": "3.10.2"
  }
 },
 "nbformat": 4,
 "nbformat_minor": 4
}

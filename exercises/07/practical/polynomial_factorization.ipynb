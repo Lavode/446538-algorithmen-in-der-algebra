{
 "cells": [
  {
   "cell_type": "markdown",
   "metadata": {},
   "source": [
    "<h1>FaktorII</h1>\n",
    "Müsterlösung von Woche 4:\n",
    "Eine Funktion Hensel, der bei Input monische Polynome $f,g,h$ in $\\mathbb{Z}[x]$ und eine Primzahl $p$ mit $f=gh \\mod p$ und $ggT(g \\mod p,h \\mod p)=1$ und eine Zahl $k>0$ monische Polynome $u,v$ findet mit $f=uv \\mod p^k$ und $u=g \\mod p$ und $v=h \\mod p$."
   ]
  },
  {
   "cell_type": "code",
   "execution_count": 1,
   "metadata": {},
   "outputs": [],
   "source": [
    "def hensel(f,g,h,p,k):\n",
    "    if k==1:\n",
    "        return(g,h)\n",
    "    R=f.parent()\n",
    "    assert (f-g*h)%p == 0 and f.is_monic() and g.is_monic() and h.is_monic() #Just to check if the input satisfies the assumption.\n",
    "    gp=g.base_extend(GF(p))\n",
    "    hp=h.base_extend(GF(p))\n",
    "    one, a, b = xgcd(hp,gp)\n",
    "    assert one == 1 #Just to check if the input satisfies the assumption.\n",
    "    for i in range(1,k):\n",
    "        #Assume that f=gh mod p^i, find u,v such that f=uv mod p^(i+1), u=g mod p^i, v=h mod p^i\n",
    "        #First we write f=g*h+p^i*f1\n",
    "        f1=(f-g*h)//(p^i)\n",
    "        #Now we need to find g1, h1 such that g1*h+h1*g=f1 \n",
    "        f1p=f1.base_extend(GF(p))\n",
    "        g1p=a*f1p\n",
    "        h1p=b*f1p\n",
    "        #We need to ensure that deg(g1)<deg(g) (then automatically also deg(h1)<deg(h))\n",
    "        while g1p.degree() >= gp.degree():\n",
    "            u=g1p.leading_coefficient()*x^(g1p.degree()-gp.degree())\n",
    "            g1p=g1p-gp*u\n",
    "            h1p=h1p+hp*u\n",
    "        g=g+p^i*R(g1p)\n",
    "        h=h+p^i*R(h1p)\n",
    "    return [g,h]\n",
    "        "
   ]
  },
  {
   "cell_type": "markdown",
   "metadata": {},
   "source": [
    "Sage hat eine eingebaute Funktion für den LLL-Algorithmus:"
   ]
  },
  {
   "cell_type": "code",
   "execution_count": 2,
   "metadata": {},
   "outputs": [
    {
     "data": {
      "text/plain": [
       "[    25   -317   -148]\n",
       "[   953 -12084  25904]"
      ]
     },
     "execution_count": 2,
     "metadata": {},
     "output_type": "execute_result"
    }
   ],
   "source": [
    "M = Matrix(ZZ, [[1,0,10^7],[0,1,788644]])\n",
    "M.LLL()"
   ]
  },
  {
   "cell_type": "markdown",
   "metadata": {},
   "source": [
    "<h2>Aufgabe a:</h2>\n",
    "Schreibe eine Funktion faktorII, mit Input:\n",
    " <ul>\n",
    "  <li>$f \\in \\mathbb{Z}[x]$ monisch, quadratfrei,</li>\n",
    "  <li>$p$ eine Primzahl, wodurch bei der Berechnung von $ggT(f,f')$ nie geteilt wird (d.h. $p$ teilt die Diskriminante von $f$ nicht),</li>\n",
    "  <li>$g, h \\in \\mathbb{Z}[x]$ monisch so dass $(g \\mod p) \\cdot (h \\mod p)=(f \\mod p) \\in \\mathbb{F}_p[x]$, und ausserdem $(h \\mod p) \\in \\mathbb{F}_p[x]$ irreduzibel ist,</li>\n",
    "</ul> \n",
    "Und Output $h_0 \\in \\mathbb{Z}[x]$ monisch, irreduzibler Teiler von $f$ mit $(h \\mod p)|(h_0 \\mod p)$ ($h_0$ ist eindeutig).\n",
    "\n",
    "Sie können die obige Funktionen Hensel und .LLL() (oder Ihre eigene Implementierung davon aus Wochen 4 und 6) verwenden. "
   ]
  },
  {
   "cell_type": "code",
   "execution_count": 9,
   "metadata": {},
   "outputs": [],
   "source": [
    "def faktorII(f,p,h,g):\n",
    "    n = f.degree()\n",
    "    l = h.degree()\n",
    "    \n",
    "    if l >= n:\n",
    "        raise ArgumentError(f\"Degree of f (= {n}) must be larger than degree of l (= {l})\")\n",
    "    \n",
    "    m = l - 1\n",
    "    \n",
    "    while True:\n",
    "        m += 1\n",
    "        \n",
    "        # We now want a k such that:\n",
    "        # p^{k*l} > 2^{m*n/2} * binom(2m, m)^{n/2} * ||f||^{m+n}\n",
    "        # Thus we simply calculate the RHS, take the log with base p, divide by l, and round up. Easy!\n",
    "        rhs = 2^(m * n / 2) * binomial(2*m, m)^(n/2) * f.norm(2)^(m+n)\n",
    "        k = ceil(log(rhs, p) / l)\n",
    "        assert(p^(k*l) > rhs)\n",
    "        \n",
    "        # Now we want a polynomial ~h over the integers, such that:\n",
    "        #   ~h \\equiv h mod p\n",
    "        #   ~h mod p^k | f mod p^k\n",
    "        # Which we'll do with the Hensel elevator.\n",
    "        # Hensel will, given f, g, h, p, k, return polyonmials u, v, with:\n",
    "        #   u \\equiv g mod p\n",
    "        #   v \\equiv h mod p\n",
    "        #   f \\equiv uv mod p^k\n",
    "        # Thus, v will be a fitting choice for ~h.\n",
    "        u, v = hensel(f, g, h, p, k)\n",
    "                \n",
    "        # We now construct a basis of a lattice L_{m, k} in R[x]_{<= m}, using:\n",
    "        #   p^k * x^i for i = 0 to l-1\n",
    "        #   x^i * ~h  for i = 0 to m-l\n",
    "        # (For a total of m basis vectors)\n",
    "        l_basis = Matrix(ZZ, m+2, m+2)\n",
    "        for i in range(0, l): # [0, l-1]\n",
    "            # This basis vector will represent p^k * x^i, so the all-zero vector with p^k in the (i+1)-th field\n",
    "            b = vector(ZZ, m+2)\n",
    "            b[i] = p^k\n",
    "            l_basis[i] = b\n",
    "            \n",
    "        for i in range(0, m+2-l): # [0, m+1-l-1]\n",
    "            # This basis vector will represent x^i * ~h, so ~h \"shifted right\" by i places\n",
    "            b = vector(ZZ, m+2)\n",
    "            b[i : v.degree() + 1 + i] = v # Length of coefficient vector of v is deg(v) + 1\n",
    "            l_basis[i + l] = b\n",
    "        \n",
    "        # print(l_basis, \"\\n\")\n",
    "        \n",
    "        # Calculate 3/4-reduced LLL basis\n",
    "        reduced_basis = l_basis.LLL(delta=3/4)\n",
    "        \n",
    "        # We are done when ||p_1|| < (p^(kl) / ||f||^m)^(1/n)\n",
    "        # where p_1 is the first basis vector of the reduced basis\n",
    "        threshold = (p^(k*l) / (f.norm(2)^m))^(1/n)\n",
    "        if reduced_basis[0].norm(2) < threshold:\n",
    "            return reduced_basis[0]  "
   ]
  },
  {
   "cell_type": "code",
   "execution_count": 10,
   "metadata": {},
   "outputs": [
    {
     "name": "stdout",
     "output_type": "stream",
     "text": [
      "(x^2 + 3*x + 1) * (x^4 + 1)\n",
      "(x^2 + 1) * (x^2 + x + 2) * (x^2 + 2*x + 2)\n"
     ]
    },
    {
     "ename": "AssertionError",
     "evalue": "",
     "output_type": "error",
     "traceback": [
      "\u001b[1;31m---------------------------------------------------------------------------\u001b[0m",
      "\u001b[1;31mAssertionError\u001b[0m                            Traceback (most recent call last)",
      "Input \u001b[1;32mIn [10]\u001b[0m, in \u001b[0;36m<cell line: 8>\u001b[1;34m()\u001b[0m\n\u001b[0;32m      5\u001b[0m \u001b[38;5;28mprint\u001b[39m(f\u001b[38;5;241m.\u001b[39mfactor())\n\u001b[0;32m      6\u001b[0m \u001b[38;5;28mprint\u001b[39m(f\u001b[38;5;241m.\u001b[39mfactor_mod(p))\n\u001b[1;32m----> 8\u001b[0m \u001b[38;5;28;01massert\u001b[39;00m(\u001b[38;5;28mtuple\u001b[39m(faktorII(f,p,(x\u001b[38;5;241m*\u001b[39m\u001b[38;5;241m*\u001b[39mInteger(\u001b[38;5;241m2\u001b[39m) \u001b[38;5;241m+\u001b[39m Integer(\u001b[38;5;241m1\u001b[39m)),(x\u001b[38;5;241m*\u001b[39m\u001b[38;5;241m*\u001b[39mInteger(\u001b[38;5;241m2\u001b[39m) \u001b[38;5;241m+\u001b[39m x \u001b[38;5;241m+\u001b[39m Integer(\u001b[38;5;241m2\u001b[39m)) \u001b[38;5;241m*\u001b[39m (x\u001b[38;5;241m*\u001b[39m\u001b[38;5;241m*\u001b[39mInteger(\u001b[38;5;241m2\u001b[39m) \u001b[38;5;241m+\u001b[39m Integer(\u001b[38;5;241m2\u001b[39m)\u001b[38;5;241m*\u001b[39mx \u001b[38;5;241m+\u001b[39m Integer(\u001b[38;5;241m2\u001b[39m)))) \u001b[38;5;241m==\u001b[39m (Integer(\u001b[38;5;241m1\u001b[39m), Integer(\u001b[38;5;241m3\u001b[39m), Integer(\u001b[38;5;241m1\u001b[39m))) \u001b[38;5;66;03m#Wanted output: x^2 + 3*x + 1\u001b[39;00m\n\u001b[0;32m      9\u001b[0m \u001b[38;5;28;01massert\u001b[39;00m(\u001b[38;5;28mtuple\u001b[39m(faktorII(f,p,(x\u001b[38;5;241m*\u001b[39m\u001b[38;5;241m*\u001b[39mInteger(\u001b[38;5;241m2\u001b[39m) \u001b[38;5;241m+\u001b[39m x \u001b[38;5;241m+\u001b[39m Integer(\u001b[38;5;241m2\u001b[39m)),(x\u001b[38;5;241m*\u001b[39m\u001b[38;5;241m*\u001b[39mInteger(\u001b[38;5;241m2\u001b[39m) \u001b[38;5;241m+\u001b[39m Integer(\u001b[38;5;241m1\u001b[39m)) \u001b[38;5;241m*\u001b[39m (x\u001b[38;5;241m*\u001b[39m\u001b[38;5;241m*\u001b[39mInteger(\u001b[38;5;241m2\u001b[39m) \u001b[38;5;241m+\u001b[39m Integer(\u001b[38;5;241m2\u001b[39m)\u001b[38;5;241m*\u001b[39mx \u001b[38;5;241m+\u001b[39m Integer(\u001b[38;5;241m2\u001b[39m)))) \u001b[38;5;241m==\u001b[39m (Integer(\u001b[38;5;241m1\u001b[39m), Integer(\u001b[38;5;241m0\u001b[39m), Integer(\u001b[38;5;241m0\u001b[39m), Integer(\u001b[38;5;241m0\u001b[39m), Integer(\u001b[38;5;241m1\u001b[39m))) \u001b[38;5;66;03m#Wanted output: x^4 + 1\u001b[39;00m\n\u001b[0;32m     10\u001b[0m \u001b[38;5;28mprint\u001b[39m(\u001b[38;5;124m\"\u001b[39m\u001b[38;5;124mDone\u001b[39m\u001b[38;5;124m\"\u001b[39m)\n",
      "\u001b[1;31mAssertionError\u001b[0m: "
     ]
    }
   ],
   "source": [
    "#Test\n",
    "R.<x> = PolynomialRing(ZZ)\n",
    "f=x^6 + 3*x^5 + x^4 + x^2 + 3*x + 1\n",
    "p=3\n",
    "print(f.factor())\n",
    "print(f.factor_mod(p))\n",
    "\n",
    "assert(tuple(faktorII(f,p,(x^2 + 1),(x^2 + x + 2) * (x^2 + 2*x + 2))) == (1, 3, 1)) #Wanted output: x^2 + 3*x + 1\n",
    "assert(tuple(faktorII(f,p,(x^2 + x + 2),(x^2 + 1) * (x^2 + 2*x + 2))) == (1, 0, 0, 0, 1)) #Wanted output: x^4 + 1\n",
    "print(\"Done\")"
   ]
  },
  {
   "cell_type": "code",
   "execution_count": null,
   "metadata": {},
   "outputs": [],
   "source": []
  }
 ],
 "metadata": {
  "kernelspec": {
   "display_name": "SageMath 9.5",
   "language": "sage",
   "name": "sagemath"
  },
  "language_info": {
   "codemirror_mode": {
    "name": "ipython",
    "version": 3
   },
   "file_extension": ".py",
   "mimetype": "text/x-python",
   "name": "python",
   "nbconvert_exporter": "python",
   "pygments_lexer": "ipython3",
   "version": "3.10.4"
  }
 },
 "nbformat": 4,
 "nbformat_minor": 4
}

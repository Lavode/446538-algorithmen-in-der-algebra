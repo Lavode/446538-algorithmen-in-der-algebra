{
 "cells": [
  {
   "cell_type": "markdown",
   "id": "8dd63133",
   "metadata": {},
   "source": [
    "# Finding algebraic number from approximation\n",
    "\n",
    "We intend to find the algebraic number, which is a zero of a degree-10 polynomial with integer coefficients, from the approximation `x = 1.1762808182599174`. We do so by LLL-reducing a cleverly chosen base `M` of a lattice `L`."
   ]
  },
  {
   "cell_type": "code",
   "execution_count": 46,
   "id": "c2e47ecb",
   "metadata": {},
   "outputs": [
    {
     "name": "stdout",
     "output_type": "stream",
     "text": [
      "(1, 1, 0, -1, -1, -1, -1, -1, 0, 1, 1, 0)\n",
      "1*x^10 + 1*x^9 + -1*x^7 + -1*x^6 + -1*x^5 + -1*x^4 + -1*x^3 + 1*x^1 + 1*x^0\n"
     ]
    }
   ],
   "source": [
    "x = 1.1762808182599174\n",
    "d = 10 # Degree of polynomial\n",
    "n = 10^8 # Some large number\n",
    "# We now define a base of a lattice in R^(d+2)\n",
    "\n",
    "M = identity_matrix(ZZ, d+1) # The diagonal of 1s\n",
    "x_powers = Matrix(ZZ, d+1, 1) # Last column, containing terms of form floor(N * x^i)\n",
    "\n",
    "for i in range(d+1):\n",
    "    x_powers[i] = ceil(n * x^i)\n",
    "\n",
    "# Combine the two\n",
    "M = M.augment(x_powers)\n",
    "\n",
    "M_lll = M.LLL()\n",
    "\n",
    "# First element is lowest power, i.e. x^(0). Last element is an 'error term' which we'll cut off\n",
    "pol_coef = M_lll[0][:d+1]\n",
    "print(M_lll[0])\n",
    "pol_terms = []\n",
    "\n",
    "i = d+1\n",
    "for c in reversed(pol_coef):\n",
    "    i -= 1\n",
    "\n",
    "    if c == 0:\n",
    "        continue\n",
    "        \n",
    "    pol_terms.append(f\"{c}*x^{i}\")\n",
    "    \n",
    "print(\" + \".join(pol_terms))"
   ]
  },
  {
   "cell_type": "code",
   "execution_count": 45,
   "id": "e54197b1",
   "metadata": {},
   "outputs": [
    {
     "data": {
      "text/plain": [
       "(1, 1, 0, -1, -1, -1, -1, -1, 0, 1, 1)"
      ]
     },
     "execution_count": 45,
     "metadata": {},
     "output_type": "execute_result"
    }
   ],
   "source": [
    "pol_coef"
   ]
  },
  {
   "cell_type": "code",
   "execution_count": null,
   "id": "b5c21ac1",
   "metadata": {},
   "outputs": [],
   "source": []
  }
 ],
 "metadata": {
  "kernelspec": {
   "display_name": "SageMath 9.5",
   "language": "sage",
   "name": "sagemath"
  },
  "language_info": {
   "codemirror_mode": {
    "name": "ipython",
    "version": 3
   },
   "file_extension": ".py",
   "mimetype": "text/x-python",
   "name": "python",
   "nbconvert_exporter": "python",
   "pygments_lexer": "ipython3",
   "version": "3.10.4"
  }
 },
 "nbformat": 4,
 "nbformat_minor": 5
}

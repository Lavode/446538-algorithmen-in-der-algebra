{
 "cells": [
  {
   "cell_type": "markdown",
   "metadata": {},
   "source": [
    "<h1> Sage 101 </h1>"
   ]
  },
  {
   "cell_type": "markdown",
   "metadata": {},
   "source": [
    "Teil der Übungen sind Programmieraufgaben. Hier sind ein Paar wichtige Sachen die Sie über Sage wissen sollten. "
   ]
  },
  {
   "cell_type": "markdown",
   "metadata": {},
   "source": [
    "<h2> Struktur eines Notebooks </h2>"
   ]
  },
  {
   "cell_type": "markdown",
   "metadata": {},
   "source": [
    "Ein Jupyter notebook bestheht aus 2 Arten Zellen. Normaler Text (wie dieser) steht in einer \"Markdown cell\". Man kann darin auch u.a. $\\LaTeX$ und <b>HTML</b> benutzen.\n",
    "\n",
    "Wichtiger aber sind \"Code cells\". Die nächste Zelle ist eine Code cell. Dort gibt man einen Befehl ein, und führt den aus mit Shift-Enter, oder alternativ mit dem \"Run\"-button oben."
   ]
  },
  {
   "cell_type": "code",
   "execution_count": null,
   "metadata": {
    "scrolled": true
   },
   "outputs": [],
   "source": [
    "print('Hello world!')"
   ]
  },
  {
   "cell_type": "markdown",
   "metadata": {},
   "source": [
    "Ein Jupyter notebook hat 2 input modes:\n",
    "\n",
    "Grüner Rand bedeutet \"Edit mode\": für Text oder Code innerhalb einer Zelle.\n",
    "Blauer Rand bedeutet \"Command mode\": für Notebook level commands.\n",
    "\n",
    "Wechsle zwischen beiden mit \"Enter\" (Edit mode) und \"Escape\" (Command mode), indem du auf oder neben eine Zelle klickst (Doppelklick für Markdown cells)."
   ]
  },
  {
   "cell_type": "markdown",
   "metadata": {},
   "source": [
    "Einige shortcuts im Command mode:\n",
    "- Pfeiltasten: Zwischen Zellen navigieren\n",
    "- Shift + enter: Zelle evaluieren (auch für Markdown cells)\n",
    "- Alt + enter: Zelle evaluieren und neue Zelle einfügen\n",
    "- B: neue Zelle einfügen\n",
    "- M: ändere Zelle zu Markdown\n",
    "- Y: ändere Zelle zu Code\n",
    "- D+D: Zelle löschen\n",
    "- I+I: Interrupt kernel (falls Sage hängen bleibt)\n",
    "- 0+0: Restart kernel\n",
    "- S: Notebook speichern \n",
    "- H: Zeige keyboard shortcuts"
   ]
  },
  {
   "cell_type": "markdown",
   "metadata": {},
   "source": [
    "<h2> Basisoperationen </h2>"
   ]
  },
  {
   "cell_type": "markdown",
   "metadata": {},
   "source": [
    "Sage kennt die Basisoperationen und vieles mehr:"
   ]
  },
  {
   "cell_type": "code",
   "execution_count": null,
   "metadata": {},
   "outputs": [],
   "source": [
    "p = 2*40+11\n",
    "print(p)"
   ]
  },
  {
   "cell_type": "code",
   "execution_count": null,
   "metadata": {},
   "outputs": [],
   "source": [
    "p.factor()"
   ]
  },
  {
   "cell_type": "code",
   "execution_count": null,
   "metadata": {},
   "outputs": [],
   "source": [
    "p==100-9"
   ]
  },
  {
   "cell_type": "markdown",
   "metadata": {},
   "source": [
    "Das Zeichen = steht für einen Befehl: mache die linke Seite (eine Variable) gleich der rechten Seite (ein Wert). Vergleichungen werden mit ==, <=, <, usw. gemacht. Viele Programmierfehler kommen daher, dass man versehentlich = benutzt wo == gemeint wurde. "
   ]
  },
  {
   "cell_type": "markdown",
   "metadata": {},
   "source": [
    "\"//\" ist Division von ganzen Zahlen (nach unten abgerundet); \"%\" ist modulo:"
   ]
  },
  {
   "cell_type": "code",
   "execution_count": null,
   "metadata": {},
   "outputs": [],
   "source": [
    "print(57//10)\n",
    "print(57%10)"
   ]
  },
  {
   "cell_type": "markdown",
   "metadata": {},
   "source": [
    "<h2> Hilfe </h2>"
   ]
  },
  {
   "cell_type": "markdown",
   "metadata": {},
   "source": [
    "Man kann mit der Help-Option im Menü fast alles finden, was man braucht. Auch kann man mit ? Informationen über einen gewissen Befehl aufrufen:"
   ]
  },
  {
   "cell_type": "code",
   "execution_count": null,
   "metadata": {},
   "outputs": [],
   "source": [
    "factorial?"
   ]
  },
  {
   "cell_type": "code",
   "execution_count": null,
   "metadata": {},
   "outputs": [],
   "source": [
    "p?"
   ]
  },
  {
   "cell_type": "markdown",
   "metadata": {},
   "source": [
    "Sage hat auch Tab-completion: drücke mal \"Tab\" auf die folgende beide Zellen."
   ]
  },
  {
   "cell_type": "code",
   "execution_count": null,
   "metadata": {},
   "outputs": [],
   "source": [
    "plo"
   ]
  },
  {
   "cell_type": "code",
   "execution_count": null,
   "metadata": {},
   "outputs": [],
   "source": [
    "p."
   ]
  },
  {
   "cell_type": "markdown",
   "metadata": {},
   "source": [
    "<h2> Listen </h2>\n",
    "Eine Liste kann man machen mit eckigen Klammern \"[]\". In einer Liste können beliebige Objekten stehen."
   ]
  },
  {
   "cell_type": "code",
   "execution_count": null,
   "metadata": {},
   "outputs": [],
   "source": [
    "meineListe=[1,\"two\",[4,5]]"
   ]
  },
  {
   "cell_type": "markdown",
   "metadata": {},
   "source": [
    "Elemente einer Liste bekommt man so:"
   ]
  },
  {
   "cell_type": "code",
   "execution_count": null,
   "metadata": {},
   "outputs": [],
   "source": [
    "meineListe[1] #Achtung: Sage fängt beim zählen immer von 0 an. \n",
    "#(Alles was im code nach \"#\" kommt ist Kommentar, wird nicht ausgeführt.)"
   ]
  },
  {
   "cell_type": "markdown",
   "metadata": {},
   "source": [
    "Sage (oder eher: Python) kennt sehr ausführliche Operationen für Listen; ein paar Beispiele:"
   ]
  },
  {
   "cell_type": "code",
   "execution_count": null,
   "metadata": {},
   "outputs": [],
   "source": [
    "L=[5..11] \n",
    "L"
   ]
  },
  {
   "cell_type": "code",
   "execution_count": null,
   "metadata": {},
   "outputs": [],
   "source": [
    "[i^2 for i in L]"
   ]
  },
  {
   "cell_type": "code",
   "execution_count": null,
   "metadata": {},
   "outputs": [],
   "source": [
    "[i for i in L if i.is_prime()]"
   ]
  },
  {
   "cell_type": "code",
   "execution_count": null,
   "metadata": {},
   "outputs": [],
   "source": [
    "sum(L)"
   ]
  },
  {
   "cell_type": "code",
   "execution_count": null,
   "metadata": {},
   "outputs": [],
   "source": [
    "print(L[3:6]) #Elemente 3 bis 6 (3 inklusive, 6 exclusive)\n",
    "print(L[3:])\n",
    "print(L[:6])"
   ]
  },
  {
   "cell_type": "markdown",
   "metadata": {},
   "source": [
    "Man kann Listen zusammensetzen mit \"+\"."
   ]
  },
  {
   "cell_type": "code",
   "execution_count": null,
   "metadata": {},
   "outputs": [],
   "source": [
    "L+[21,22,23]"
   ]
  },
  {
   "cell_type": "markdown",
   "metadata": {},
   "source": [
    "Und z.B. \"L+L+L\" kann man abkürzen zu:"
   ]
  },
  {
   "cell_type": "code",
   "execution_count": null,
   "metadata": {
    "scrolled": true
   },
   "outputs": [],
   "source": [
    "3*L"
   ]
  },
  {
   "cell_type": "markdown",
   "metadata": {},
   "source": [
    "Die oben verwendenten Operationen ändern die Liste L nicht; sie produzieren eine neue Liste.\n",
    "Hier sind einige Operationen die L ändern:"
   ]
  },
  {
   "cell_type": "code",
   "execution_count": null,
   "metadata": {},
   "outputs": [],
   "source": [
    "L.append(12) \n",
    "print(L)"
   ]
  },
  {
   "cell_type": "code",
   "execution_count": null,
   "metadata": {},
   "outputs": [],
   "source": [
    "L.insert(5,42)\n",
    "print(L)"
   ]
  },
  {
   "cell_type": "code",
   "execution_count": null,
   "metadata": {},
   "outputs": [],
   "source": [
    "L.pop(2)\n",
    "print(L)"
   ]
  },
  {
   "cell_type": "markdown",
   "metadata": {},
   "source": [
    "<h2> Dicts </h2>\n",
    "Ein dict (von \"dictionary\": \"Worterbuch\") ist wie eine Liste, aber die Indizes können beliebige Objekte sein.\n",
    "\n",
    "Dicts wirden mit Akkoladen \"{}\" dargestellt:"
   ]
  },
  {
   "cell_type": "code",
   "execution_count": null,
   "metadata": {},
   "outputs": [],
   "source": [
    "D = {'Apfel':'apple','Birne':'pear','Ananas':'pineapple',1:'one'}"
   ]
  },
  {
   "cell_type": "code",
   "execution_count": null,
   "metadata": {},
   "outputs": [],
   "source": [
    "D['Ananas']"
   ]
  },
  {
   "cell_type": "code",
   "execution_count": null,
   "metadata": {},
   "outputs": [],
   "source": [
    "D"
   ]
  },
  {
   "cell_type": "code",
   "execution_count": null,
   "metadata": {},
   "outputs": [],
   "source": [
    "D.keys()"
   ]
  },
  {
   "cell_type": "code",
   "execution_count": null,
   "metadata": {},
   "outputs": [],
   "source": [
    "D.values()"
   ]
  },
  {
   "cell_type": "code",
   "execution_count": null,
   "metadata": {},
   "outputs": [],
   "source": [
    "'Birne' in D"
   ]
  },
  {
   "cell_type": "code",
   "execution_count": null,
   "metadata": {},
   "outputs": [],
   "source": [
    "'pear' in D #Also \"in\" überprüft ob etwas ein \"key\" vom Dict ist."
   ]
  },
  {
   "cell_type": "markdown",
   "metadata": {},
   "source": [
    "<h2> Schleifen </h2>\n",
    "\n",
    "Achtung: Einrückungen sind wichtig in Sage/Python!"
   ]
  },
  {
   "cell_type": "markdown",
   "metadata": {},
   "source": [
    "For loop:"
   ]
  },
  {
   "cell_type": "code",
   "execution_count": null,
   "metadata": {},
   "outputs": [],
   "source": [
    "a=0\n",
    "for i in range(100): \n",
    "    a=a+i\n",
    "print(a)"
   ]
  },
  {
   "cell_type": "code",
   "execution_count": null,
   "metadata": {},
   "outputs": [],
   "source": [
    "for i in L:\n",
    "    print(i^i)"
   ]
  },
  {
   "cell_type": "markdown",
   "metadata": {},
   "source": [
    "While loop:"
   ]
  },
  {
   "cell_type": "code",
   "execution_count": null,
   "metadata": {},
   "outputs": [],
   "source": [
    "i=90\n",
    "while not is_prime(i):\n",
    "    i = i+1\n",
    "print(i)"
   ]
  },
  {
   "cell_type": "markdown",
   "metadata": {},
   "source": [
    "If-else:"
   ]
  },
  {
   "cell_type": "code",
   "execution_count": null,
   "metadata": {},
   "outputs": [],
   "source": [
    "a=randint(0,10)\n",
    "if a <= 5:\n",
    "    print(a)\n",
    "else:\n",
    "    print(-a)"
   ]
  },
  {
   "cell_type": "markdown",
   "metadata": {},
   "source": [
    "<h2>Funktionen</h2>\n",
    "\n",
    "Die Argumente einer Funktion werden immer zwischen runden Klammern geschrieben:"
   ]
  },
  {
   "cell_type": "code",
   "execution_count": null,
   "metadata": {},
   "outputs": [],
   "source": [
    "factorial(100)"
   ]
  },
  {
   "cell_type": "markdown",
   "metadata": {},
   "source": [
    "Man kann selber Funktionen definieren mit \"def\". Dies definiert z.B. die Fibonaccizahlen:"
   ]
  },
  {
   "cell_type": "code",
   "execution_count": 1,
   "metadata": {},
   "outputs": [],
   "source": [
    "def F(n):\n",
    "    if n == 0 or n==1:\n",
    "        return 1\n",
    "    else:\n",
    "        return F(n-1)+F(n-2)"
   ]
  },
  {
   "cell_type": "markdown",
   "metadata": {},
   "source": [
    "To test how long it takes to evaluate a function, you can use the following function. You can use this as a black box; just copy-paste it into any notebook where you want to do a timing test."
   ]
  },
  {
   "cell_type": "code",
   "execution_count": 2,
   "metadata": {},
   "outputs": [],
   "source": [
    "#Input: (f,r), where:\n",
    "#f is the function you want to test (between quotation marks),\n",
    "#r is the list of inputs you want to test it on.\n",
    "#Output: a list of times in seconds.\n",
    "#Also displays a plot of this list.\n",
    "from sage.misc.sage_timeit import sage_timeit\n",
    "def my_timeit(f,r):\n",
    "    for i in r:\n",
    "        L=flatten([sage_timeit(f+'('+str(i)+')', globals(), preparse=True, number=1, repeat=1).series for i in r])\n",
    "        list_plot(L).show()\n",
    "        return L"
   ]
  },
  {
   "cell_type": "markdown",
   "metadata": {},
   "source": [
    "Wann wir dies auf F anwenden, sehen wir dass die Definition nicht sehr effizient ist."
   ]
  },
  {
   "cell_type": "code",
   "execution_count": 3,
   "metadata": {
    "scrolled": false
   },
   "outputs": [
    {
     "data": {
      "image/png": "[encoded data removed]",
      "text/plain": [
       "Graphics object consisting of 1 graphics primitive"
      ]
     },
     "metadata": {},
     "output_type": "display_data"
    }
   ],
   "source": [
    "my_timeit('F',range(30));"
   ]
  },
  {
   "cell_type": "markdown",
   "metadata": {},
   "source": [
    "Was ist der Grund? Wenn F(n) ausgerechnet werden muss, werden F(n-1) und F(n-2) gebraucht, und die Funktion F wird zwei mal aufgerufen. Um F(n-1) auszurechnen, wird u.a. wieder F(n-2) gebraucht, und nicht benutzt, dass man F(n-2) schon mal ausgerechnet hat. Genauer gesagt: die Anzahl Mal, dass die Funktion F aufgerufen wird um F(n) zu berechnen erfuellt die gleiche Rekurrenz die F. Nicht gut. So werden früher berechnete Werte gespeichert, und nicht immer wieder berechnet:"
   ]
  },
  {
   "cell_type": "code",
   "execution_count": 4,
   "metadata": {},
   "outputs": [],
   "source": [
    "D={}\n",
    "def G(n):\n",
    "    if n in D:\n",
    "        return D[n]\n",
    "    else:\n",
    "        if n == 0 or n==1:\n",
    "            result = 1\n",
    "        else:\n",
    "            result = G(n-1)+G(n-2)\n",
    "        D[n] = result\n",
    "    return result"
   ]
  },
  {
   "cell_type": "code",
   "execution_count": 5,
   "metadata": {
    "scrolled": false
   },
   "outputs": [
    {
     "data": {
      "image/png": "[encoded data removed]",
      "text/plain": [
       "Graphics object consisting of 1 graphics primitive"
      ]
     },
     "metadata": {},
     "output_type": "display_data"
    }
   ],
   "source": [
    "my_timeit('G',range(30));"
   ]
  },
  {
   "cell_type": "code",
   "execution_count": null,
   "metadata": {},
   "outputs": [],
   "source": []
  }
 ],
 "metadata": {
  "kernelspec": {
   "display_name": "SageMath 9.5",
   "language": "sage",
   "name": "sagemath"
  },
  "language_info": {
   "codemirror_mode": {
    "name": "ipython",
    "version": 3
   },
   "file_extension": ".py",
   "mimetype": "text/x-python",
   "name": "python",
   "nbconvert_exporter": "python",
   "pygments_lexer": "ipython3",
   "version": "3.10.2"
  }
 },
 "nbformat": 4,
 "nbformat_minor": 4
}
